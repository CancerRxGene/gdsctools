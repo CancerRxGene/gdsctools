{
 "cells": [
  {
   "cell_type": "markdown",
   "metadata": {},
   "source": [
    "# Reading data sets\n",
    "- IC50\n",
    "- Genomic Featuers\n",
    "- Drug Decoder"
   ]
  },
  {
   "cell_type": "code",
   "execution_count": 1,
   "metadata": {
    "collapsed": false
   },
   "outputs": [
    {
     "name": "stdout",
     "output_type": "stream",
     "text": [
      "Populating the interactive namespace from numpy and matplotlib\n"
     ]
    }
   ],
   "source": [
    "%pylab inline\n",
    "matplotlib.rcParams['figure.figsize'] = (10,6)"
   ]
  },
  {
   "cell_type": "code",
   "execution_count": 1,
   "metadata": {
    "collapsed": false
   },
   "outputs": [],
   "source": [
    "# let us import some functions\n",
    "from gdsctools import IC50, DrugDecoder, GenomicFeatures\n",
    "# and data sets\n",
    "from gdsctools import ic50_test, genomic_features\n",
    "from gdsctools.datasets import testing"
   ]
  },
  {
   "cell_type": "markdown",
   "metadata": {},
   "source": [
    "## IC50"
   ]
  },
  {
   "cell_type": "markdown",
   "metadata": {},
   "source": [
    "The first type of data set to be used in the anlaysis is the matrix of IC50. There is a test file called **ic50_test** that gives the location of such a file\n"
   ]
  },
  {
   "cell_type": "code",
   "execution_count": 2,
   "metadata": {
    "collapsed": false
   },
   "outputs": [],
   "source": [
    "ic50 = IC50(ic50_test)"
   ]
  },
  {
   "cell_type": "code",
   "execution_count": 3,
   "metadata": {
    "collapsed": false
   },
   "outputs": [
    {
     "name": "stdout",
     "output_type": "stream",
     "text": [
      "Number of drugs: 11\n",
      "Number of cell lines: 988\n",
      "Percentage of NA 0.206569746043\n",
      "\n"
     ]
    }
   ],
   "source": [
    "print(ic50)"
   ]
  },
  {
   "cell_type": "code",
   "execution_count": 4,
   "metadata": {
    "collapsed": false
   },
   "outputs": [
    {
     "ename": "NameError",
     "evalue": "name 'title' is not defined",
     "output_type": "error",
     "traceback": [
      "\u001b[1;31m---------------------------------------------------------------------------\u001b[0m",
      "\u001b[1;31mNameError\u001b[0m                                 Traceback (most recent call last)",
      "\u001b[1;32m<ipython-input-4-8149bbd35e0c>\u001b[0m in \u001b[0;36m<module>\u001b[1;34m()\u001b[0m\n\u001b[0;32m      1\u001b[0m \u001b[0mdata\u001b[0m \u001b[1;33m=\u001b[0m \u001b[0mic50\u001b[0m\u001b[1;33m.\u001b[0m\u001b[0mplot_ic50_count\u001b[0m\u001b[1;33m(\u001b[0m\u001b[0mmarker\u001b[0m\u001b[1;33m=\u001b[0m\u001b[1;34m'o'\u001b[0m\u001b[1;33m)\u001b[0m\u001b[1;33m\u001b[0m\u001b[0m\n\u001b[1;32m----> 2\u001b[1;33m \u001b[0mtitle\u001b[0m\u001b[1;33m(\u001b[0m\u001b[1;34m\"Count of valid IC50 values per drug\"\u001b[0m\u001b[1;33m)\u001b[0m\u001b[1;33m\u001b[0m\u001b[0m\n\u001b[0m",
      "\u001b[1;31mNameError\u001b[0m: name 'title' is not defined"
     ]
    }
   ],
   "source": [
    "data = ic50.plot_ic50_count(marker='o')\n",
    "title(\"Count of valid IC50 values per drug\")"
   ]
  },
  {
   "cell_type": "code",
   "execution_count": null,
   "metadata": {
    "collapsed": false
   },
   "outputs": [],
   "source": [
    "data = ic50.hist()"
   ]
  },
  {
   "cell_type": "code",
   "execution_count": 5,
   "metadata": {
    "collapsed": false
   },
   "outputs": [],
   "source": [
    "drug_to_drop  = ['Drug_999_IC50', 'Drug_1047_IC50', 'Drug_1049_IC50',\n",
    "                'Drug_1050_IC50', 'Drug_1052_IC50', 'Drug_1053_IC50']\n",
    "dummy = ic50.drop_drugs(drug_to_drop)\n",
    "data = ic50.hist()"
   ]
  },
  {
   "cell_type": "markdown",
   "metadata": {},
   "source": [
    "## Genomic Features"
   ]
  },
  {
   "cell_type": "code",
   "execution_count": 6,
   "metadata": {
    "collapsed": true
   },
   "outputs": [],
   "source": [
    "f = GenomicFeatures() # default from the package"
   ]
  },
  {
   "cell_type": "markdown",
   "metadata": {},
   "source": [
    "This is equivalent to "
   ]
  },
  {
   "cell_type": "code",
   "execution_count": 7,
   "metadata": {
    "collapsed": false
   },
   "outputs": [],
   "source": [
    "f = GenomicFeatures(genomic_features)"
   ]
  },
  {
   "cell_type": "code",
   "execution_count": 8,
   "metadata": {
    "collapsed": false
   },
   "outputs": [
    {
     "name": "stdout",
     "output_type": "stream",
     "text": [
      "Genomic features distribution\n",
      "Number of unique tissues 27\n",
      "Here are first 10 tissues: lung_NSCLC, prostate, stomach, nervous_system, skin, Bladder, leukemia, kidney, thyroid, soft_tissue\n",
      "\n",
      "There are 677 unique features distributed as\n",
      "- Mutation: 270\n",
      "- CNA (gain): 116\n",
      "- CNA (loss): 291\n"
     ]
    }
   ],
   "source": [
    "print(f)"
   ]
  },
  {
   "cell_type": "markdown",
   "metadata": {},
   "source": [
    "Note that this GenomicFeatures matrix must have 3 special columns\n",
    "to provide the sample name, Tissue Factor Value and MSI factor value. \n",
    "Then all features."
   ]
  },
  {
   "cell_type": "code",
   "execution_count": 9,
   "metadata": {
    "collapsed": false
   },
   "outputs": [
    {
     "data": {
      "text/html": [
       "<div>\n",
       "<table border=\"1\" class=\"dataframe\">\n",
       "  <thead>\n",
       "    <tr style=\"text-align: right;\">\n",
       "      <th></th>\n",
       "      <th>Sample Name</th>\n",
       "      <th>Tissue Factor Value</th>\n",
       "      <th>MS-instability Factor Value</th>\n",
       "      <th>ABCB1_mut</th>\n",
       "      <th>ABL2_mut</th>\n",
       "      <th>ACACA_mut</th>\n",
       "      <th>ACVR1B_mut</th>\n",
       "      <th>ACVR2A_mut</th>\n",
       "      <th>AFF4_mut</th>\n",
       "      <th>AHCTF1_mut</th>\n",
       "      <th>...</th>\n",
       "      <th>loss_cnaPANCAN415_(B2M,BUB1B,MGA,TP53BP1)</th>\n",
       "      <th>loss_cnaPANCAN416</th>\n",
       "      <th>loss_cnaPANCAN417</th>\n",
       "      <th>loss_cnaPANCAN418</th>\n",
       "      <th>loss_cnaPANCAN419</th>\n",
       "      <th>loss_cnaPANCAN420</th>\n",
       "      <th>loss_cnaPANCAN421</th>\n",
       "      <th>loss_cnaPANCAN422, loss_cnaPANCAN423</th>\n",
       "      <th>loss_cnaPANCAN424</th>\n",
       "      <th>loss_cnaPANCAN425</th>\n",
       "    </tr>\n",
       "    <tr>\n",
       "      <th>COSMIC ID</th>\n",
       "      <th></th>\n",
       "      <th></th>\n",
       "      <th></th>\n",
       "      <th></th>\n",
       "      <th></th>\n",
       "      <th></th>\n",
       "      <th></th>\n",
       "      <th></th>\n",
       "      <th></th>\n",
       "      <th></th>\n",
       "      <th></th>\n",
       "      <th></th>\n",
       "      <th></th>\n",
       "      <th></th>\n",
       "      <th></th>\n",
       "      <th></th>\n",
       "      <th></th>\n",
       "      <th></th>\n",
       "      <th></th>\n",
       "      <th></th>\n",
       "      <th></th>\n",
       "    </tr>\n",
       "  </thead>\n",
       "  <tbody>\n",
       "    <tr>\n",
       "      <th>1287381</th>\n",
       "      <td>201T</td>\n",
       "      <td>lung_NSCLC</td>\n",
       "      <td>0</td>\n",
       "      <td>0</td>\n",
       "      <td>0</td>\n",
       "      <td>0</td>\n",
       "      <td>0</td>\n",
       "      <td>0</td>\n",
       "      <td>0</td>\n",
       "      <td>0</td>\n",
       "      <td>...</td>\n",
       "      <td>0</td>\n",
       "      <td>0</td>\n",
       "      <td>0</td>\n",
       "      <td>0</td>\n",
       "      <td>0</td>\n",
       "      <td>0</td>\n",
       "      <td>0</td>\n",
       "      <td>0</td>\n",
       "      <td>0</td>\n",
       "      <td>0</td>\n",
       "    </tr>\n",
       "    <tr>\n",
       "      <th>924100</th>\n",
       "      <td>22RV1</td>\n",
       "      <td>prostate</td>\n",
       "      <td>1</td>\n",
       "      <td>0</td>\n",
       "      <td>0</td>\n",
       "      <td>0</td>\n",
       "      <td>0</td>\n",
       "      <td>0</td>\n",
       "      <td>0</td>\n",
       "      <td>0</td>\n",
       "      <td>...</td>\n",
       "      <td>0</td>\n",
       "      <td>0</td>\n",
       "      <td>0</td>\n",
       "      <td>0</td>\n",
       "      <td>0</td>\n",
       "      <td>0</td>\n",
       "      <td>0</td>\n",
       "      <td>0</td>\n",
       "      <td>0</td>\n",
       "      <td>0</td>\n",
       "    </tr>\n",
       "    <tr>\n",
       "      <th>910924</th>\n",
       "      <td>23132-87</td>\n",
       "      <td>stomach</td>\n",
       "      <td>1</td>\n",
       "      <td>0</td>\n",
       "      <td>0</td>\n",
       "      <td>0</td>\n",
       "      <td>0</td>\n",
       "      <td>0</td>\n",
       "      <td>0</td>\n",
       "      <td>0</td>\n",
       "      <td>...</td>\n",
       "      <td>0</td>\n",
       "      <td>0</td>\n",
       "      <td>0</td>\n",
       "      <td>0</td>\n",
       "      <td>0</td>\n",
       "      <td>0</td>\n",
       "      <td>0</td>\n",
       "      <td>0</td>\n",
       "      <td>0</td>\n",
       "      <td>0</td>\n",
       "    </tr>\n",
       "  </tbody>\n",
       "</table>\n",
       "<p>3 rows × 680 columns</p>\n",
       "</div>"
      ],
      "text/plain": [
       "          Sample Name Tissue Factor Value  MS-instability Factor Value  \\\n",
       "COSMIC ID                                                                \n",
       "1287381          201T          lung_NSCLC                            0   \n",
       "924100          22RV1            prostate                            1   \n",
       "910924       23132-87             stomach                            1   \n",
       "\n",
       "           ABCB1_mut  ABL2_mut  ACACA_mut  ACVR1B_mut  ACVR2A_mut  AFF4_mut  \\\n",
       "COSMIC ID                                                                     \n",
       "1287381            0         0          0           0           0         0   \n",
       "924100             0         0          0           0           0         0   \n",
       "910924             0         0          0           0           0         0   \n",
       "\n",
       "           AHCTF1_mut        ...          \\\n",
       "COSMIC ID                    ...           \n",
       "1287381             0        ...           \n",
       "924100              0        ...           \n",
       "910924              0        ...           \n",
       "\n",
       "           loss_cnaPANCAN415_(B2M,BUB1B,MGA,TP53BP1)  loss_cnaPANCAN416  \\\n",
       "COSMIC ID                                                                 \n",
       "1287381                                            0                  0   \n",
       "924100                                             0                  0   \n",
       "910924                                             0                  0   \n",
       "\n",
       "           loss_cnaPANCAN417  loss_cnaPANCAN418  loss_cnaPANCAN419  \\\n",
       "COSMIC ID                                                            \n",
       "1287381                    0                  0                  0   \n",
       "924100                     0                  0                  0   \n",
       "910924                     0                  0                  0   \n",
       "\n",
       "           loss_cnaPANCAN420  loss_cnaPANCAN421  \\\n",
       "COSMIC ID                                         \n",
       "1287381                    0                  0   \n",
       "924100                     0                  0   \n",
       "910924                     0                  0   \n",
       "\n",
       "           loss_cnaPANCAN422, loss_cnaPANCAN423  loss_cnaPANCAN424  \\\n",
       "COSMIC ID                                                            \n",
       "1287381                                       0                  0   \n",
       "924100                                        0                  0   \n",
       "910924                                        0                  0   \n",
       "\n",
       "           loss_cnaPANCAN425  \n",
       "COSMIC ID                     \n",
       "1287381                    0  \n",
       "924100                     0  \n",
       "910924                     0  \n",
       "\n",
       "[3 rows x 680 columns]"
      ]
     },
     "execution_count": 9,
     "metadata": {},
     "output_type": "execute_result"
    }
   ],
   "source": [
    "f.df.iloc[0:3]"
   ]
  },
  {
   "cell_type": "code",
   "execution_count": 10,
   "metadata": {
    "collapsed": false
   },
   "outputs": [],
   "source": [
    "df = f.plot()"
   ]
  },
  {
   "cell_type": "code",
   "execution_count": 11,
   "metadata": {
    "collapsed": false
   },
   "outputs": [],
   "source": [
    "groups = f.df.groupby('Tissue Factor Value').groups\n",
    "to_remove = []\n",
    "for tissue in groups.keys():\n",
    "    if len(groups[tissue])<40:\n",
    "        to_remove.append(tissue)\n"
   ]
  },
  {
   "cell_type": "code",
   "execution_count": 12,
   "metadata": {
    "collapsed": false
   },
   "outputs": [
    {
     "data": {
      "text/plain": [
       "aero dig tract      79\n",
       "breast              52\n",
       "large intestine     50\n",
       "leukemia            82\n",
       "lung NSCLC         111\n",
       "lung SCLC           64\n",
       "lymphoma            69\n",
       "nervous system      56\n",
       "ovary               43\n",
       "skin                58\n",
       "dtype: float64"
      ]
     },
     "execution_count": 12,
     "metadata": {},
     "output_type": "execute_result"
    }
   ],
   "source": [
    "info = f.drop_tissue_in(to_remove)\n",
    "f.plot()"
   ]
  },
  {
   "cell_type": "markdown",
   "metadata": {},
   "source": [
    "## Drug Decoder"
   ]
  },
  {
   "cell_type": "markdown",
   "metadata": {},
   "source": [
    "GDSCTools provides an IC50 test file (ic50_test). The drug identifiers are\n",
    "usually encoded  with a unique identifier that have no meaning. A decoder\n",
    "file may be provided. for example, we provide the drug_test data set"
   ]
  },
  {
   "cell_type": "code",
   "execution_count": 13,
   "metadata": {
    "collapsed": false
   },
   "outputs": [
    {
     "name": "stdout",
     "output_type": "stream",
     "text": [
      "location: /home/cokelaer/Work/github/gdsctools/share/data/test_drug_decode.csv\n",
      "description: drug_decode in CSV format\n",
      "authors: GDSC consortium\n",
      "\n"
     ]
    }
   ],
   "source": [
    "print(testing.drug_test_csv)"
   ]
  },
  {
   "cell_type": "code",
   "execution_count": 14,
   "metadata": {
    "collapsed": false
   },
   "outputs": [
    {
     "name": "stdout",
     "output_type": "stream",
     "text": [
      "Number of drugs: 11\n",
      "\n"
     ]
    }
   ],
   "source": [
    "dd = DrugDecoder(testing.drug_test_csv)\n",
    "print(dd)"
   ]
  },
  {
   "cell_type": "markdown",
   "metadata": {},
   "source": [
    "It can be used to retrive the name and target of the drug"
   ]
  },
  {
   "cell_type": "code",
   "execution_count": 15,
   "metadata": {
    "collapsed": false
   },
   "outputs": [],
   "source": [
    "dd.get_name('Drug_1047_IC50')"
   ]
  },
  {
   "cell_type": "code",
   "execution_count": 16,
   "metadata": {
    "collapsed": false
   },
   "outputs": [],
   "source": [
    "dd.get_target('Drug_1047_IC50')"
   ]
  },
  {
   "cell_type": "markdown",
   "metadata": {},
   "source": [
    "<hr>\n",
    "<ht>\n",
    "**Author: Thomas Cokelaer, Nov 2015**"
   ]
  },
  {
   "cell_type": "code",
   "execution_count": null,
   "metadata": {
    "collapsed": true
   },
   "outputs": [],
   "source": []
  }
 ],
 "metadata": {
  "kernelspec": {
   "display_name": "Python 2",
   "language": "python",
   "name": "python2"
  },
  "language_info": {
   "codemirror_mode": {
    "name": "ipython",
    "version": 2
   },
   "file_extension": ".py",
   "mimetype": "text/x-python",
   "name": "python",
   "nbconvert_exporter": "python",
   "pygments_lexer": "ipython2",
   "version": "2.7.5"
  }
 },
 "nbformat": 4,
 "nbformat_minor": 0
}
