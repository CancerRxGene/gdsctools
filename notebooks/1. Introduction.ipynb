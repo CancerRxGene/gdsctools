{
 "cells": [
  {
   "cell_type": "markdown",
   "metadata": {
    "deletable": true,
    "editable": true
   },
   "source": [
    "# Introduction"
   ]
  },
  {
   "cell_type": "markdown",
   "metadata": {
    "deletable": true,
    "editable": true
   },
   "source": [
    "We provide a set of notebooks to show how the GDSCTools package can be used in ipython / ipython notebook.\n",
    "\n",
    "The source code is available on github https://github.com/CancerRxGene/gdsctools\n",
    "Would you have any issues (bug related), please fill an issue here https://github.com/CancerRxGene/gdsctools/issues\n",
    "\n",
    "In this notebook, we will simply give a flavour of what can be done. Other notebooks will provide more detailed examples. \n",
    "\n",
    "\n",
    "Documentation is also available for users and developers in a dedicated entry page on Pypi and http://gdsctools.readthedocs.org\n",
    "\n",
    "<hr>\n",
    "\n",
    "<div id=\"content\">\n",
    "<p>**Other notebooks:**</p><ul id=\"toc\"/>\n",
    "<ul>\n",
    "<li><a href=\"2. Data.ipynb\">About the input data</a></li>\n",
    "<li><a href=\"3. One Drug Analysis.ipynb\">Analysis one drug only and volcano plot</a></li>\n",
    "<li><a href=\"4. One Drug One Feature Analysis.ipynb\">Analysis of one drug one feature (Association) and\n",
    "boxplots</a></li>\n",
    "<li><a href=\"5. Report.ipynb\">Create HTML report</li>\n",
    "<li><a href=\"6. Settings.ipynb\">Settings of the analysis</li>\n",
    "<li><a href=\"7. Cancer Specific Analysis.ipynb\">Cancer specific analysis</li>\n",
    "</ul>\n",
    "</div>\n",
    "\n"
   ]
  },
  {
   "cell_type": "markdown",
   "metadata": {
    "deletable": true,
    "editable": true
   },
   "source": [
    "### Overview"
   ]
  },
  {
   "cell_type": "markdown",
   "metadata": {
    "deletable": true,
    "editable": true
   },
   "source": [
    "The goal of this package is to provide tools related to the GDSC project \n",
    "(Genomics of Drug Sensitivity in Cancer) http://www.cancerrxgene.org/"
   ]
  },
  {
   "cell_type": "markdown",
   "metadata": {
    "deletable": true,
    "editable": true
   },
   "source": [
    "Currently, GSDSTools provides functionalities to identify associations between drugs and genomic features across a set of cell lines "
   ]
  },
  {
   "cell_type": "markdown",
   "metadata": {
    "deletable": true,
    "editable": true
   },
   "source": [
    "The genomic features are provided within the packages. Users need to provide IC50 for a set of drugs and a set of cell lines"
   ]
  },
  {
   "cell_type": "markdown",
   "metadata": {
    "deletable": true,
    "editable": true
   },
   "source": [
    "We provide an example to play with. First let us get this IC50 test file and ad it"
   ]
  },
  {
   "cell_type": "code",
   "execution_count": 2,
   "metadata": {
    "collapsed": false,
    "deletable": true,
    "editable": true
   },
   "outputs": [
    {
     "name": "stdout",
     "output_type": "stream",
     "text": [
      "Populating the interactive namespace from numpy and matplotlib\n"
     ]
    }
   ],
   "source": [
    "%pylab inline\n",
    "\n",
    "from gdsctools import ic50_test, GenomicFeatures, genomic_features_test"
   ]
  },
  {
   "cell_type": "code",
   "execution_count": 3,
   "metadata": {
    "collapsed": false,
    "deletable": true,
    "editable": true
   },
   "outputs": [
    {
     "name": "stdout",
     "output_type": "stream",
     "text": [
      "location: /home/cokelaer/Work/github/gdsctools/gdsctools/data/IC50_10drugs.tsv\n",
      "description: IC50s for 10 public drugs across cell lines\n",
      "authors: GDSC consortium\n",
      "\n"
     ]
    }
   ],
   "source": [
    "print(ic50_test)"
   ]
  },
  {
   "cell_type": "markdown",
   "metadata": {
    "deletable": true,
    "editable": true
   },
   "source": [
    "This is just a file with a location and description. It can be read using\n",
    "the IC50 class"
   ]
  },
  {
   "cell_type": "code",
   "execution_count": 4,
   "metadata": {
    "collapsed": false,
    "deletable": true,
    "editable": true
   },
   "outputs": [
    {
     "name": "stdout",
     "output_type": "stream",
     "text": [
      "Number of drugs: 11\n",
      "Number of cell lines: 988\n",
      "Percentage of NA 0.20656974604343026\n",
      "\n"
     ]
    }
   ],
   "source": [
    "from gdsctools import IC50\n",
    "data = IC50(ic50_test)\n",
    "print(data)"
   ]
  },
  {
   "cell_type": "markdown",
   "metadata": {
    "deletable": true,
    "editable": true
   },
   "source": [
    "As you can see, it contains 11 drugs across 988 cell lines"
   ]
  },
  {
   "cell_type": "markdown",
   "metadata": {
    "deletable": true,
    "editable": true
   },
   "source": [
    "Similarly, there is a genomic feature data set provided, which can be read \n",
    "with the  GenomicFeatures class"
   ]
  },
  {
   "cell_type": "code",
   "execution_count": 6,
   "metadata": {
    "collapsed": false,
    "deletable": true,
    "editable": true
   },
   "outputs": [
    {
     "name": "stdout",
     "output_type": "stream",
     "text": [
      "Genomic features distribution\n",
      "Number of unique tissues 27\n",
      "Here are the first 10 tissues: myeloma, nervous_system, soft_tissue, bone, lung_NSCLC, skin, Bladder, cervix, lung_SCLC, lung\n",
      "MSI column: yes\n",
      "MEDIA column: no\n",
      "\n",
      "There are 47 unique features distributed as\n",
      "- Mutation: 47\n",
      "- CNA (gain): 0\n",
      "- CNA (loss): 0\n"
     ]
    }
   ],
   "source": [
    "gf = GenomicFeatures(genomic_features_test)\n",
    "print(gf)"
   ]
  },
  {
   "cell_type": "markdown",
   "metadata": {
    "deletable": true,
    "editable": true
   },
   "source": [
    "This file is going to be downloaded automatically when an analysis \n",
    "is performed. However, you may provide your own file."
   ]
  },
  {
   "cell_type": "markdown",
   "metadata": {
    "deletable": true,
    "editable": true
   },
   "source": [
    "Let us now perform the analysis using the ANOVA class"
   ]
  },
  {
   "cell_type": "code",
   "execution_count": 7,
   "metadata": {
    "collapsed": false,
    "deletable": true,
    "editable": true
   },
   "outputs": [],
   "source": [
    "from gdsctools import ANOVA"
   ]
  },
  {
   "cell_type": "code",
   "execution_count": 8,
   "metadata": {
    "collapsed": false,
    "deletable": true,
    "editable": true
   },
   "outputs": [],
   "source": [
    "an = ANOVA(data, genomic_features=genomic_features_test.filename)"
   ]
  },
  {
   "cell_type": "code",
   "execution_count": 9,
   "metadata": {
    "collapsed": false,
    "deletable": true,
    "editable": true
   },
   "outputs": [
    {
     "name": "stdout",
     "output_type": "stream",
     "text": [
      "Number of drugs: 11\n",
      "Number of cell lines: 988\n",
      "Percentage of NA 0.20656974604343026\n",
      "\n",
      "Genomic features distribution\n",
      "Number of unique tissues 27\n",
      "Here are the first 10 tissues: lung_NSCLC, prostate, stomach, nervous_system, skin, Bladder, leukemia, kidney, thyroid, soft_tissue\n",
      "MSI column: yes\n",
      "MEDIA column: no\n",
      "\n",
      "There are 47 unique features distributed as\n",
      "- Mutation: 47\n",
      "- CNA (gain): 0\n",
      "- CNA (loss): 0\n"
     ]
    }
   ],
   "source": [
    "print(an)"
   ]
  },
  {
   "cell_type": "markdown",
   "metadata": {
    "deletable": true,
    "editable": true
   },
   "source": [
    "so, we have 11 drugs, 677 features across 988 cell lines (27 tissues). This \n",
    "is a PANCAN analysis (across several cancer cell types).\n",
    "\n",
    "We can analysis the entire data set, which takes some time (still reasonable; about 1 minute dependiing on your system). "
   ]
  },
  {
   "cell_type": "code",
   "execution_count": 10,
   "metadata": {
    "collapsed": false,
    "deletable": true,
    "editable": true
   },
   "outputs": [
    {
     "name": "stdout",
     "output_type": "stream",
     "text": [
      " [                  0%                  ] 0 of 11 complete in 0.0 sec[---               9%                  ] 1 of 11 complete in 0.2 sec[------           18%                  ] 2 of 11 complete in 0.5 sec[----------       27%                  ] 3 of 11 complete in 0.8 sec[-------------    36%                  ] 4 of 11 complete in 1.1 sec[-----------------45%                  ] 5 of 11 complete in 1.4 sec[-----------------54%                  ] 6 of 11 complete in 1.7 sec[-----------------63%----              ] 7 of 11 complete in 2.0 sec[-----------------72%-------           ] 8 of 11 complete in 2.3 sec[-----------------81%-----------       ] 9 of 11 complete in 2.5 sec[-----------------90%--------------    ] 10 of 11 complete in 2.7 sec[-----------------100%-----------------] 11 of 11 complete in 3.0 sec\n",
      "\n"
     ]
    }
   ],
   "source": [
    "results = an.anova_all()"
   ]
  },
  {
   "cell_type": "markdown",
   "metadata": {
    "deletable": true,
    "editable": true
   },
   "source": [
    "All results are now in the new variable <b>results</b>, which can be looked at. This is a dataframe formatted variable using Pandas library. Each association can be accessed to using a unique identifier from 0 to the length of the dataframe:"
   ]
  },
  {
   "cell_type": "code",
   "execution_count": 11,
   "metadata": {
    "collapsed": false,
    "deletable": true,
    "editable": true
   },
   "outputs": [
    {
     "data": {
      "text/plain": [
       "ASSOC_ID                              1\n",
       "FEATURE                        TP53_mut\n",
       "DRUG_ID                            1047\n",
       "DRUG_NAME                           NaN\n",
       "DRUG_TARGET                         NaN\n",
       "N_FEATURE_neg                       292\n",
       "N_FEATURE_pos                       554\n",
       "FEATURE_pos_logIC50_MEAN        4.06932\n",
       "FEATURE_neg_logIC50_MEAN        2.49511\n",
       "FEATURE_delta_MEAN_IC50         1.57421\n",
       "FEATURE_IC50_effect_size        1.39063\n",
       "FEATURE_neg_Glass_delta         1.09839\n",
       "FEATURE_pos_Glass_delta         1.68301\n",
       "FEATURE_neg_IC50_sd              1.4332\n",
       "FEATURE_pos_IC50_sd            0.935351\n",
       "FEATURE_IC50_T_pval         1.27218e-68\n",
       "ANOVA_FEATURE_pval          1.57507e-58\n",
       "ANOVA_TISSUE_pval           1.02587e-44\n",
       "ANOVA_MSI_pval                0.0259029\n",
       "ANOVA_MEDIA_pval                    NaN\n",
       "ANOVA_FEATURE_FDR           8.03288e-54\n",
       "Name: 0, dtype: object"
      ]
     },
     "execution_count": 11,
     "metadata": {},
     "output_type": "execute_result"
    }
   ],
   "source": [
    "results.df.ix[0]"
   ]
  },
  {
   "cell_type": "markdown",
   "metadata": {
    "deletable": true,
    "editable": true
   },
   "source": [
    "As an example, we can plot the histogram of the FDR columns:"
   ]
  },
  {
   "cell_type": "code",
   "execution_count": 12,
   "metadata": {
    "collapsed": false,
    "deletable": true,
    "editable": true
   },
   "outputs": [
    {
     "name": "stdout",
     "output_type": "stream",
     "text": [
      "Populating the interactive namespace from numpy and matplotlib\n"
     ]
    },
    {
     "data": {
      "text/plain": [
       "<matplotlib.axes._subplots.AxesSubplot at 0x7fb8a42ea080>"
      ]
     },
     "execution_count": 12,
     "metadata": {},
     "output_type": "execute_result"
    },
    {
     "data": {
      "image/png": "[encoded data removed]",
      "text/plain": [
       "<matplotlib.figure.Figure at 0x7fb8a426f5f8>"
      ]
     },
     "metadata": {},
     "output_type": "display_data"
    }
   ],
   "source": [
    "%pylab inline\n",
    "results.df['ANOVA_FEATURE_FDR'].hist(bins=20)"
   ]
  },
  {
   "cell_type": "markdown",
   "metadata": {
    "deletable": true,
    "editable": true
   },
   "source": [
    "In the next notebooks, we will now investigate more precisely \n",
    "- the input data sets\n",
    "- the analysis and in particular how to look at\n",
    "    - one association\n",
    "    - associations for a given drug\n",
    "    - all associations (what we did here when we called anova_all() function)\n",
    "- How to generate HTML reports\n",
    "- The settings\n",
    "    "
   ]
  },
  {
   "cell_type": "code",
   "execution_count": null,
   "metadata": {
    "collapsed": true,
    "deletable": true,
    "editable": true
   },
   "outputs": [],
   "source": []
  }
 ],
 "metadata": {
  "kernelspec": {
   "display_name": "Python 3",
   "language": "python",
   "name": "python3"
  },
  "language_info": {
   "codemirror_mode": {
    "name": "ipython",
    "version": 3
   },
   "file_extension": ".py",
   "mimetype": "text/x-python",
   "name": "python",
   "nbconvert_exporter": "python",
   "pygments_lexer": "ipython3",
   "version": "3.5.2"
  }
 },
 "nbformat": 4,
 "nbformat_minor": 0
}
