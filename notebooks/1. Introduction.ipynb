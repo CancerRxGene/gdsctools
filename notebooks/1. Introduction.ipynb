{
 "cells": [
  {
   "cell_type": "markdown",
   "metadata": {},
   "source": [
    "# Introduction"
   ]
  },
  {
   "cell_type": "markdown",
   "metadata": {},
   "source": [
    "We provide a set of notebooks to show how the GDSCTools package can be used in ipython / ipython notebook.\n",
    "\n",
    "The source code is available on github https://github.com/CancerRxGene/gdsctools\n",
    "Would you have any issues (bug related), please fill an issue here https://github.com/CancerRxGene/gdsctools/issues\n",
    "\n",
    "In this notebook, we will simply give a flavour of what can be done. Other notebooks will provide more detailed examples. \n",
    "\n",
    "\n",
    "Documentation is also available for users and developers in a dedicated entry page on Pypi and http://gdsctools.readthedocs.org\n",
    "\n",
    "<hr>\n",
    "\n",
    "<div id=\"content\">\n",
    "<p>**Other notebooks:**</p><ul id=\"toc\"/>\n",
    "<ul>\n",
    "<li><a href=\"2. Data.ipynb\">About the input data</a></li>\n",
    "<li><a href=\"3. One Drug Analysis.ipynb\">Analysis one drug only and volcano plot</a></li>\n",
    "<li><a href=\"4. One Drug One Feature Analysis.ipynb\">Analysis of one drug one feature (Association) and\n",
    "boxplots</a></li>\n",
    "<li><a href=\"5. Report.ipynb\">Create HTML report</li>\n",
    "<li><a href=\"6. Settings.ipynb\">Settings of the analysis</li>\n",
    "<li><a href=\"7. Cancer Specific Analysis.ipynb\">Cancer specific analysis</li>\n",
    "</ul>\n",
    "</div>\n",
    "\n"
   ]
  },
  {
   "cell_type": "markdown",
   "metadata": {},
   "source": [
    "### Overview"
   ]
  },
  {
   "cell_type": "markdown",
   "metadata": {},
   "source": [
    "The goal of this package is to provide tools related to the GDSC project \n",
    "(Genomics of Drug Sensitivity in Cancer) http://www.cancerrxgene.org/"
   ]
  },
  {
   "cell_type": "markdown",
   "metadata": {},
   "source": [
    "Currently, GSDSTools provides functionalities to identify associations between drugs and genomic features across a set of cell lines "
   ]
  },
  {
   "cell_type": "markdown",
   "metadata": {},
   "source": [
    "The genomic features are provided within the packages. Users need to provide IC50 for a set of drugs and a set of cell lines"
   ]
  },
  {
   "cell_type": "markdown",
   "metadata": {},
   "source": [
    "We provide an example to play with. First let us get this IC50 test file and ad it"
   ]
  },
  {
   "cell_type": "code",
   "execution_count": 1,
   "metadata": {
    "collapsed": true
   },
   "outputs": [],
   "source": [
    "from gdsctools import ic50_test"
   ]
  },
  {
   "cell_type": "code",
   "execution_count": 2,
   "metadata": {
    "collapsed": false
   },
   "outputs": [
    {
     "name": "stdout",
     "output_type": "stream",
     "text": [
      "location: /home/cokelaer/Work/github/gdsctools/share/data/IC50_10drugs.tsv\n",
      "description: IC50s for 10 public drugs across cell lines\n",
      "authors: GDSC consortium\n",
      "\n"
     ]
    }
   ],
   "source": [
    "print(ic50_test)"
   ]
  },
  {
   "cell_type": "markdown",
   "metadata": {},
   "source": [
    "This is just a file with a location and description. It can be read using\n",
    "the IC50 class"
   ]
  },
  {
   "cell_type": "code",
   "execution_count": 3,
   "metadata": {
    "collapsed": false
   },
   "outputs": [
    {
     "name": "stdout",
     "output_type": "stream",
     "text": [
      "Number of drugs: 11\n",
      "Number of cell lines: 988\n",
      "Percentage of NA 0.206569746043\n",
      "\n"
     ]
    }
   ],
   "source": [
    "from gdsctools import IC50\n",
    "data = IC50(ic50_test)\n",
    "print(data)"
   ]
  },
  {
   "cell_type": "markdown",
   "metadata": {},
   "source": [
    "As you can see, it contains 11 drugs across 988 cell lines"
   ]
  },
  {
   "cell_type": "markdown",
   "metadata": {},
   "source": [
    "Similarly, there is a genomic feature data set provided, which can be read \n",
    "with the  GenomicFeatures class"
   ]
  },
  {
   "cell_type": "code",
   "execution_count": 4,
   "metadata": {
    "collapsed": true
   },
   "outputs": [],
   "source": [
    "from gdsctools import genomic_features, GenomicFeatures"
   ]
  },
  {
   "cell_type": "code",
   "execution_count": 5,
   "metadata": {
    "collapsed": false
   },
   "outputs": [
    {
     "name": "stdout",
     "output_type": "stream",
     "text": [
      "Genomic features distribution\n",
      "Number of unique tissues 27\n",
      "Here are first 10 tissues: lung_NSCLC, prostate, stomach, nervous_system, skin, Bladder, leukemia, kidney, thyroid, soft_tissue\n",
      "\n",
      "There are 677 unique features distributed as\n",
      "- Mutation: 270\n",
      "- CNA (gain): 116\n",
      "- CNA (loss): 291\n"
     ]
    }
   ],
   "source": [
    "gf = GenomicFeatures(genomic_features)\n",
    "print(gf)"
   ]
  },
  {
   "cell_type": "markdown",
   "metadata": {},
   "source": [
    "This file is going to be downloaded automatically when an analysis \n",
    "is performed. However, you may provide your own file."
   ]
  },
  {
   "cell_type": "markdown",
   "metadata": {},
   "source": [
    "Let us now perform the analysis using the ANOVA class"
   ]
  },
  {
   "cell_type": "code",
   "execution_count": 6,
   "metadata": {
    "collapsed": true
   },
   "outputs": [],
   "source": [
    "from gdsctools import ANOVA"
   ]
  },
  {
   "cell_type": "code",
   "execution_count": 7,
   "metadata": {
    "collapsed": false
   },
   "outputs": [],
   "source": [
    "an = ANOVA(data, genomic_features=genomic_features.filename)"
   ]
  },
  {
   "cell_type": "code",
   "execution_count": 8,
   "metadata": {
    "collapsed": false
   },
   "outputs": [
    {
     "name": "stdout",
     "output_type": "stream",
     "text": [
      "Number of drugs: 11\n",
      "Number of cell lines: 988\n",
      "Percentage of NA 0.206569746043\n",
      "\n",
      "Genomic features distribution\n",
      "Number of unique tissues 27\n",
      "Here are first 10 tissues: lung_NSCLC, prostate, stomach, nervous_system, skin, Bladder, leukemia, kidney, thyroid, soft_tissue\n",
      "\n",
      "There are 677 unique features distributed as\n",
      "- Mutation: 270\n",
      "- CNA (gain): 116\n",
      "- CNA (loss): 291\n"
     ]
    }
   ],
   "source": [
    "print(an)"
   ]
  },
  {
   "cell_type": "markdown",
   "metadata": {},
   "source": [
    "so, we have 11 drugs, 677 features across 988 cell lines (27 tissues). This \n",
    "is a PANCAN analysis (across several cancer cell types).\n",
    "\n",
    "We can analysis the entire data set, which takes some time (still reasonable; about 1 minute dependiing on your system). "
   ]
  },
  {
   "cell_type": "code",
   "execution_count": 9,
   "metadata": {
    "collapsed": false
   },
   "outputs": [
    {
     "name": "stdout",
     "output_type": "stream",
     "text": [
      " [-----------------100%-----------------] 11 of 11 complete in 44.4 sec"
     ]
    }
   ],
   "source": [
    "results = an.anova_all()"
   ]
  },
  {
   "cell_type": "markdown",
   "metadata": {},
   "source": [
    "All results are now in the new variable <b>results</b>, which can be looked at. This is a dataframe formatted variable using Pandas library. Each association can be accessed to using a unique identifier from 0 to the length of the dataframe:"
   ]
  },
  {
   "cell_type": "code",
   "execution_count": 11,
   "metadata": {
    "collapsed": false
   },
   "outputs": [
    {
     "data": {
      "text/plain": [
       "FEATUREpos_Glass_delta             1.68301\n",
       "MSI_ANOVA_pval                   0.0259029\n",
       "ANOVA_FEATURE_FDR_%             1.1424e-52\n",
       "N_FEATURE_neg                          292\n",
       "FEATUREneg_logIC50_MEAN            2.49511\n",
       "TISSUE_ANOVA_pval              1.02587e-44\n",
       "FEATURE_deltaMEAN_IC50             1.57421\n",
       "FEATURE_IC50_effect_size           1.39063\n",
       "FEATUREneg_Glass_delta             1.09839\n",
       "FEATUREpos_logIC50_MEAN            4.06932\n",
       "FEATURE_IC50_T_pval            1.27218e-68\n",
       "ASSOC_ID                                 1\n",
       "log max.Conc.tested2                   NaN\n",
       "DRUG_TARGET                            NaN\n",
       "FEATUREneg_IC50_sd                  1.4332\n",
       "FEATURE                           TP53_mut\n",
       "FEATURE_ANOVA_pval             1.57507e-58\n",
       "DRUG_NAME                              NaN\n",
       "FEATUREpos_IC50_sd                0.935351\n",
       "log max.Conc.tested                    NaN\n",
       "N_FEATURE_pos                          554\n",
       "DRUG_ID                     Drug_1047_IC50\n",
       "Name: 0, dtype: object"
      ]
     },
     "execution_count": 11,
     "metadata": {},
     "output_type": "execute_result"
    }
   ],
   "source": [
    "results.df.ix[0]"
   ]
  },
  {
   "cell_type": "markdown",
   "metadata": {},
   "source": [
    "As an example, we can plot the histogram of the FDR columns:"
   ]
  },
  {
   "cell_type": "code",
   "execution_count": 13,
   "metadata": {
    "collapsed": false
   },
   "outputs": [
    {
     "name": "stdout",
     "output_type": "stream",
     "text": [
      "Populating the interactive namespace from numpy and matplotlib\n"
     ]
    },
    {
     "data": {
      "text/plain": [
       "<matplotlib.axes._subplots.AxesSubplot at 0x9c6b0d0>"
      ]
     },
     "execution_count": 13,
     "metadata": {},
     "output_type": "execute_result"
    },
    {
     "data": {
      "image/png": "[encoded data removed]",
      "text/plain": [
       "<matplotlib.figure.Figure at 0x9c34c50>"
      ]
     },
     "metadata": {},
     "output_type": "display_data"
    }
   ],
   "source": [
    "%pylab inline\n",
    "results.df['ANOVA_FEATURE_FDR_%'].hist(bins=20)"
   ]
  },
  {
   "cell_type": "markdown",
   "metadata": {},
   "source": [
    "In the next notebooks, we will now investigate more precisely \n",
    "- the input data sets\n",
    "- the analysis and in particular how to look at\n",
    "    - one association\n",
    "    - associations for a given drug\n",
    "    - all associations (what we did here when we called anova_all() function)\n",
    "- How to generate HTML reports\n",
    "- The settings\n",
    "    "
   ]
  },
  {
   "cell_type": "markdown",
   "metadata": {},
   "source": [
    "<hr>\n",
    "<ht>\n",
    "**Author: Thomas Cokelaer, Nov 2015**"
   ]
  },
  {
   "cell_type": "code",
   "execution_count": null,
   "metadata": {
    "collapsed": true
   },
   "outputs": [],
   "source": []
  }
 ],
 "metadata": {
  "kernelspec": {
   "display_name": "Python 2",
   "language": "python",
   "name": "python2"
  },
  "language_info": {
   "codemirror_mode": {
    "name": "ipython",
    "version": 2
   },
   "file_extension": ".py",
   "mimetype": "text/x-python",
   "name": "python",
   "nbconvert_exporter": "python",
   "pygments_lexer": "ipython2",
   "version": "2.7.5"
  }
 },
 "nbformat": 4,
 "nbformat_minor": 0
}
