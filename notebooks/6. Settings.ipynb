{
 "cells": [
  {
   "cell_type": "markdown",
   "metadata": {},
   "source": [
    "# Settings"
   ]
  },
  {
   "cell_type": "markdown",
   "metadata": {},
   "source": [
    "So far we have not looked at any settings. When using ANOVA or creating the report, you may tune the analysis or output"
   ]
  },
  {
   "cell_type": "code",
   "execution_count": 2,
   "metadata": {
    "collapsed": true
   },
   "outputs": [],
   "source": [
    "from gdsctools import *"
   ]
  },
  {
   "cell_type": "code",
   "execution_count": 6,
   "metadata": {
    "collapsed": false
   },
   "outputs": [
    {
     "name": "stderr",
     "output_type": "stream",
     "text": [
      "INFO:root:Reading data and building data structures\n"
     ]
    },
    {
     "name": "stdout",
     "output_type": "stream",
     "text": [
      " [-----------------100%-----------------] 11 of 11 complete in 58.6 secWARNING no drug name or target will be populated\n",
      "You can read one if you wish using read_drug_decoder\n"
     ]
    }
   ],
   "source": [
    "gdsc = ANOVA(ic50_test)\n",
    "results = gdsc.anova_all()\n",
    "report = ANOVAReport(gdsc, results)"
   ]
  },
  {
   "cell_type": "markdown",
   "metadata": {},
   "source": [
    "Everything happens in the **settings** attribute:"
   ]
  },
  {
   "cell_type": "code",
   "execution_count": 5,
   "metadata": {
    "collapsed": false
   },
   "outputs": [
    {
     "data": {
      "text/plain": [
       "{'FDR_threshold': 25,\n",
       " 'MSIfactorPopulationTh': 2,\n",
       " 'analysis_type': 'PANCAN',\n",
       " 'directory': 'html_gdsc_anova',\n",
       " 'effect_threshold': 0,\n",
       " 'equal_var_ttest': True,\n",
       " 'featFactorPopulationTh': 3,\n",
       " 'fontsize': 20,\n",
       " 'includeMSI_factor': True,\n",
       " 'minimum_nonna_ic50': 6,\n",
       " 'pval_correction_method': 'fdr',\n",
       " 'pvalue_threshold': inf,\n",
       " 'savefig': False}"
      ]
     },
     "execution_count": 5,
     "metadata": {},
     "output_type": "execute_result"
    }
   ],
   "source": [
    "gdsc.settings"
   ]
  },
  {
   "cell_type": "markdown",
   "metadata": {},
   "source": [
    "All information can be found in the online documentation but the most important ones are\n",
    "- directory: HTML and PNG will be created in this directory\n",
    "- includeMSI_factor: include the MSI factor in the anova analysis\n",
    "- analysis_type: PANCAN means all tissue are used. If you set this value to a specific tissue, all data will be filtered to kep only that feature"
   ]
  },
  {
   "cell_type": "markdown",
   "metadata": {},
   "source": [
    "<hr>\n",
    "<ht>\n",
    "**Author: Thomas Cokelaer, Nov 2015**"
   ]
  },
  {
   "cell_type": "code",
   "execution_count": null,
   "metadata": {
    "collapsed": true
   },
   "outputs": [],
   "source": []
  }
 ],
 "metadata": {
  "kernelspec": {
   "display_name": "Python 2",
   "language": "python",
   "name": "python2"
  },
  "language_info": {
   "codemirror_mode": {
    "name": "ipython",
    "version": 2
   },
   "file_extension": ".py",
   "mimetype": "text/x-python",
   "name": "python",
   "nbconvert_exporter": "python",
   "pygments_lexer": "ipython2",
   "version": "2.7.5"
  }
 },
 "nbformat": 4,
 "nbformat_minor": 0
}
