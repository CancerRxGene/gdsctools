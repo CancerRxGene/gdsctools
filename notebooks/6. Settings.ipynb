{
 "cells": [
  {
   "cell_type": "markdown",
   "metadata": {},
   "source": [
    "# Settings"
   ]
  },
  {
   "cell_type": "markdown",
   "metadata": {},
   "source": [
    "<b>DRAFT</b>"
   ]
  },
  {
   "cell_type": "markdown",
   "metadata": {},
   "source": [
    "So far we have not looked at any settings. When using ANOVA or creating the report, you may tune the analysis or output"
   ]
  },
  {
   "cell_type": "code",
   "execution_count": 1,
   "metadata": {
    "collapsed": true
   },
   "outputs": [],
   "source": [
    "from gdsctools import *"
   ]
  },
  {
   "cell_type": "code",
   "execution_count": 2,
   "metadata": {
    "collapsed": false
   },
   "outputs": [
    {
     "name": "stdout",
     "output_type": "stream",
     "text": [
      "TISSUE FACTOR : included\n",
      "MEDIA FACTOR : NOT included\n",
      "MSI FACTOR : included\n",
      "FEATURE FACTOR : included\n"
     ]
    }
   ],
   "source": [
    "gdsc = ANOVA(ic50_test)"
   ]
  },
  {
   "cell_type": "markdown",
   "metadata": {},
   "source": [
    "Everything happens in the **settings** attribute:"
   ]
  },
  {
   "cell_type": "code",
   "execution_count": 3,
   "metadata": {
    "collapsed": false
   },
   "outputs": [
    {
     "data": {
      "text/plain": [
       "{'FDR_threshold': 25,\n",
       " 'MSI_factor_threshold': 2,\n",
       " 'analysis_type': 'PANCAN',\n",
       " 'animate': True,\n",
       " 'directory': 'html_gdsc_anova',\n",
       " 'effect_threshold': 0,\n",
       " 'equal_var_ttest': True,\n",
       " 'feature_factor_threshold': 3,\n",
       " 'fontsize': 25,\n",
       " 'include_MSI_factor': True,\n",
       " 'include_media_factor': False,\n",
       " 'minimum_nonna_ic50': 6,\n",
       " 'pvalue_correction_level': 'global',\n",
       " 'pvalue_correction_method': 'fdr',\n",
       " 'pvalue_threshold': 0.001,\n",
       " 'regression_L1_wt': 0.5,\n",
       " 'regression_alpha': 0.01,\n",
       " 'regression_method': 'OLS',\n",
       " 'savefig': False,\n",
       " 'version': '0.12.0',\n",
       " 'volcano_FDR_interpolation': True,\n",
       " 'volcano_additional_FDR_lines': [0.01, 0.1, 10]}"
      ]
     },
     "execution_count": 3,
     "metadata": {},
     "output_type": "execute_result"
    }
   ],
   "source": [
    "gdsc.settings"
   ]
  },
  {
   "cell_type": "code",
   "execution_count": 4,
   "metadata": {
    "collapsed": false
   },
   "outputs": [],
   "source": [
    "gdsc.settings.analysis_type = 'breast'\n",
    "gdsc.init()\n",
    "\n",
    "\n",
    "#results = gdsc.anova_all()\n",
    "#report = ANOVAReport(gdsc, results)"
   ]
  },
  {
   "cell_type": "markdown",
   "metadata": {},
   "source": [
    "All information can be found in the online documentation but the most important ones are\n",
    "- directory: HTML and PNG will be created in this directory\n",
    "- includeMSI_factor: include the MSI factor in the anova analysis\n",
    "- analysis_type: PANCAN means all tissue are used. If you set this value to a specific tissue, all data will be filtered to kep only that feature"
   ]
  },
  {
   "cell_type": "markdown",
   "metadata": {},
   "source": [
    "<hr>\n",
    "<ht>\n",
    "**Author: Thomas Cokelaer, Nov 2015**"
   ]
  },
  {
   "cell_type": "code",
   "execution_count": null,
   "metadata": {
    "collapsed": true
   },
   "outputs": [],
   "source": []
  }
 ],
 "metadata": {
  "kernelspec": {
   "display_name": "Python 2",
   "language": "python",
   "name": "python2"
  },
  "language_info": {
   "codemirror_mode": {
    "name": "ipython",
    "version": 2
   },
   "file_extension": ".py",
   "mimetype": "text/x-python",
   "name": "python",
   "nbconvert_exporter": "python",
   "pygments_lexer": "ipython2",
   "version": "2.7.5"
  }
 },
 "nbformat": 4,
 "nbformat_minor": 0
}
