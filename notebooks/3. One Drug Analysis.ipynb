{
 "cells": [
  {
   "cell_type": "markdown",
   "metadata": {},
   "source": [
    "# One drug analysis"
   ]
  },
  {
   "cell_type": "markdown",
   "metadata": {},
   "source": [
    "In the introduction we have analysed a IC50 input file. We performed a full analysis that is we analyse all associations between all drugs and \n",
    "all features. This may take a while and sometimes one is just interested in a single drug or a sub set of drugs. In this notebook, we show how to \n",
    "restrict the analysis."
   ]
  },
  {
   "cell_type": "code",
   "execution_count": 1,
   "metadata": {
    "collapsed": false
   },
   "outputs": [
    {
     "name": "stdout",
     "output_type": "stream",
     "text": [
      "Populating the interactive namespace from numpy and matplotlib\n"
     ]
    }
   ],
   "source": [
    "%pylab inline\n",
    "matplotlib.rcParams['figure.figsize'] = (10,6)"
   ]
  },
  {
   "cell_type": "markdown",
   "metadata": {},
   "source": [
    "As before, we create an ANOVA instance. Pur input IC50 will be the test file"
   ]
  },
  {
   "cell_type": "code",
   "execution_count": 2,
   "metadata": {
    "collapsed": false
   },
   "outputs": [],
   "source": [
    "from gdsctools import ANOVA, ic50_test"
   ]
  },
  {
   "cell_type": "code",
   "execution_count": 3,
   "metadata": {
    "collapsed": false
   },
   "outputs": [],
   "source": [
    "an = ANOVA(ic50_test)"
   ]
  },
  {
   "cell_type": "markdown",
   "metadata": {},
   "source": [
    "Drugs are stored in the **drugIds** in case you forgot the drug you are interested in.. eg. the first drug identifer is "
   ]
  },
  {
   "cell_type": "code",
   "execution_count": 4,
   "metadata": {
    "collapsed": false
   },
   "outputs": [],
   "source": [
    "drug_name = an.drugIds[0]"
   ]
  },
  {
   "cell_type": "code",
   "execution_count": 5,
   "metadata": {
    "collapsed": false
   },
   "outputs": [
    {
     "name": "stdout",
     "output_type": "stream",
     "text": [
      " [-----------------100%-----------------] 47 of 47 complete in 0.2 sec"
     ]
    }
   ],
   "source": [
    "df = an.anova_one_drug(drug_name)"
   ]
  },
  {
   "cell_type": "code",
   "execution_count": 6,
   "metadata": {
    "collapsed": true
   },
   "outputs": [],
   "source": [
    "# you currently need to manually add the FDR corrections\n",
    "df = an.add_pvalues_correction(df)"
   ]
  },
  {
   "cell_type": "code",
   "execution_count": 7,
   "metadata": {
    "collapsed": false
   },
   "outputs": [
    {
     "data": {
      "text/html": [
       "<div>\n",
       "<table border=\"1\" class=\"dataframe\">\n",
       "  <thead>\n",
       "    <tr style=\"text-align: right;\">\n",
       "      <th></th>\n",
       "      <th>DRUG_ID</th>\n",
       "      <th>DRUG_NAME</th>\n",
       "      <th>DRUG_TARGET</th>\n",
       "      <th>FEATURE</th>\n",
       "      <th>FEATURE_ANOVA_pval</th>\n",
       "      <th>FEATURE_IC50_T_pval</th>\n",
       "      <th>FEATURE_IC50_effect_size</th>\n",
       "      <th>FEATURE_deltaMEAN_IC50</th>\n",
       "      <th>FEATUREneg_Glass_delta</th>\n",
       "      <th>FEATUREneg_IC50_sd</th>\n",
       "      <th>...</th>\n",
       "      <th>FEATUREpos_Glass_delta</th>\n",
       "      <th>FEATUREpos_IC50_sd</th>\n",
       "      <th>FEATUREpos_logIC50_MEAN</th>\n",
       "      <th>MSI_ANOVA_pval</th>\n",
       "      <th>N_FEATURE_neg</th>\n",
       "      <th>N_FEATURE_pos</th>\n",
       "      <th>TISSUE_ANOVA_pval</th>\n",
       "      <th>log max.Conc.tested</th>\n",
       "      <th>log max.Conc.tested2</th>\n",
       "      <th>ANOVA_FEATURE_FDR_%</th>\n",
       "    </tr>\n",
       "  </thead>\n",
       "  <tbody>\n",
       "    <tr>\n",
       "      <th>ABCB1_mut</th>\n",
       "      <td>Drug_999_IC50</td>\n",
       "      <td>NaN</td>\n",
       "      <td>NaN</td>\n",
       "      <td>ABCB1_mut</td>\n",
       "      <td>0.868427</td>\n",
       "      <td>0.485861</td>\n",
       "      <td>0.314078</td>\n",
       "      <td>0.361057</td>\n",
       "      <td>0.312963</td>\n",
       "      <td>1.153674</td>\n",
       "      <td>...</td>\n",
       "      <td>0.537545</td>\n",
       "      <td>0.671677</td>\n",
       "      <td>2.800776</td>\n",
       "      <td>0.145989</td>\n",
       "      <td>370</td>\n",
       "      <td>5</td>\n",
       "      <td>0.000003</td>\n",
       "      <td>NaN</td>\n",
       "      <td>NaN</td>\n",
       "      <td>91.78546</td>\n",
       "    </tr>\n",
       "    <tr>\n",
       "      <th>ABL2_mut</th>\n",
       "      <td>Drug_999_IC50</td>\n",
       "      <td>NaN</td>\n",
       "      <td>NaN</td>\n",
       "      <td>ABL2_mut</td>\n",
       "      <td>0.668078</td>\n",
       "      <td>0.448976</td>\n",
       "      <td>0.439348</td>\n",
       "      <td>0.505005</td>\n",
       "      <td>0.438173</td>\n",
       "      <td>1.152523</td>\n",
       "      <td>...</td>\n",
       "      <td>6.658780</td>\n",
       "      <td>0.075840</td>\n",
       "      <td>2.945498</td>\n",
       "      <td>0.145899</td>\n",
       "      <td>372</td>\n",
       "      <td>3</td>\n",
       "      <td>0.000003</td>\n",
       "      <td>NaN</td>\n",
       "      <td>NaN</td>\n",
       "      <td>91.78546</td>\n",
       "    </tr>\n",
       "    <tr>\n",
       "      <th>ACVR2A_mut</th>\n",
       "      <td>Drug_999_IC50</td>\n",
       "      <td>NaN</td>\n",
       "      <td>NaN</td>\n",
       "      <td>ACVR2A_mut</td>\n",
       "      <td>0.335307</td>\n",
       "      <td>0.799005</td>\n",
       "      <td>0.097223</td>\n",
       "      <td>-0.111829</td>\n",
       "      <td>0.097386</td>\n",
       "      <td>1.148309</td>\n",
       "      <td>...</td>\n",
       "      <td>0.088610</td>\n",
       "      <td>1.262029</td>\n",
       "      <td>2.334792</td>\n",
       "      <td>0.145467</td>\n",
       "      <td>368</td>\n",
       "      <td>7</td>\n",
       "      <td>0.000003</td>\n",
       "      <td>NaN</td>\n",
       "      <td>NaN</td>\n",
       "      <td>91.78546</td>\n",
       "    </tr>\n",
       "    <tr>\n",
       "      <th>AFF4_mut</th>\n",
       "      <td>Drug_999_IC50</td>\n",
       "      <td>NaN</td>\n",
       "      <td>NaN</td>\n",
       "      <td>AFF4_mut</td>\n",
       "      <td>0.736907</td>\n",
       "      <td>0.834149</td>\n",
       "      <td>0.105328</td>\n",
       "      <td>0.121155</td>\n",
       "      <td>0.104942</td>\n",
       "      <td>1.154493</td>\n",
       "      <td>...</td>\n",
       "      <td>0.350319</td>\n",
       "      <td>0.345841</td>\n",
       "      <td>2.564396</td>\n",
       "      <td>0.145940</td>\n",
       "      <td>371</td>\n",
       "      <td>4</td>\n",
       "      <td>0.000003</td>\n",
       "      <td>NaN</td>\n",
       "      <td>NaN</td>\n",
       "      <td>91.78546</td>\n",
       "    </tr>\n",
       "    <tr>\n",
       "      <th>AHCTF1_mut</th>\n",
       "      <td>Drug_999_IC50</td>\n",
       "      <td>NaN</td>\n",
       "      <td>NaN</td>\n",
       "      <td>AHCTF1_mut</td>\n",
       "      <td>0.507475</td>\n",
       "      <td>0.285957</td>\n",
       "      <td>0.481094</td>\n",
       "      <td>0.552571</td>\n",
       "      <td>0.478667</td>\n",
       "      <td>1.154395</td>\n",
       "      <td>...</td>\n",
       "      <td>1.932464</td>\n",
       "      <td>0.285941</td>\n",
       "      <td>2.989736</td>\n",
       "      <td>0.145751</td>\n",
       "      <td>370</td>\n",
       "      <td>5</td>\n",
       "      <td>0.000003</td>\n",
       "      <td>NaN</td>\n",
       "      <td>NaN</td>\n",
       "      <td>91.78546</td>\n",
       "    </tr>\n",
       "  </tbody>\n",
       "</table>\n",
       "<p>5 rows × 21 columns</p>\n",
       "</div>"
      ],
      "text/plain": [
       "                  DRUG_ID  DRUG_NAME  DRUG_TARGET     FEATURE  \\\n",
       "ABCB1_mut   Drug_999_IC50        NaN          NaN   ABCB1_mut   \n",
       "ABL2_mut    Drug_999_IC50        NaN          NaN    ABL2_mut   \n",
       "ACVR2A_mut  Drug_999_IC50        NaN          NaN  ACVR2A_mut   \n",
       "AFF4_mut    Drug_999_IC50        NaN          NaN    AFF4_mut   \n",
       "AHCTF1_mut  Drug_999_IC50        NaN          NaN  AHCTF1_mut   \n",
       "\n",
       "            FEATURE_ANOVA_pval  FEATURE_IC50_T_pval  FEATURE_IC50_effect_size  \\\n",
       "ABCB1_mut             0.868427             0.485861                  0.314078   \n",
       "ABL2_mut              0.668078             0.448976                  0.439348   \n",
       "ACVR2A_mut            0.335307             0.799005                  0.097223   \n",
       "AFF4_mut              0.736907             0.834149                  0.105328   \n",
       "AHCTF1_mut            0.507475             0.285957                  0.481094   \n",
       "\n",
       "            FEATURE_deltaMEAN_IC50  FEATUREneg_Glass_delta  \\\n",
       "ABCB1_mut                 0.361057                0.312963   \n",
       "ABL2_mut                  0.505005                0.438173   \n",
       "ACVR2A_mut               -0.111829                0.097386   \n",
       "AFF4_mut                  0.121155                0.104942   \n",
       "AHCTF1_mut                0.552571                0.478667   \n",
       "\n",
       "            FEATUREneg_IC50_sd         ...           FEATUREpos_Glass_delta  \\\n",
       "ABCB1_mut             1.153674         ...                         0.537545   \n",
       "ABL2_mut              1.152523         ...                         6.658780   \n",
       "ACVR2A_mut            1.148309         ...                         0.088610   \n",
       "AFF4_mut              1.154493         ...                         0.350319   \n",
       "AHCTF1_mut            1.154395         ...                         1.932464   \n",
       "\n",
       "            FEATUREpos_IC50_sd  FEATUREpos_logIC50_MEAN  MSI_ANOVA_pval  \\\n",
       "ABCB1_mut             0.671677                 2.800776        0.145989   \n",
       "ABL2_mut              0.075840                 2.945498        0.145899   \n",
       "ACVR2A_mut            1.262029                 2.334792        0.145467   \n",
       "AFF4_mut              0.345841                 2.564396        0.145940   \n",
       "AHCTF1_mut            0.285941                 2.989736        0.145751   \n",
       "\n",
       "            N_FEATURE_neg  N_FEATURE_pos  TISSUE_ANOVA_pval  \\\n",
       "ABCB1_mut             370              5           0.000003   \n",
       "ABL2_mut              372              3           0.000003   \n",
       "ACVR2A_mut            368              7           0.000003   \n",
       "AFF4_mut              371              4           0.000003   \n",
       "AHCTF1_mut            370              5           0.000003   \n",
       "\n",
       "            log max.Conc.tested  log max.Conc.tested2  ANOVA_FEATURE_FDR_%  \n",
       "ABCB1_mut                   NaN                   NaN             91.78546  \n",
       "ABL2_mut                    NaN                   NaN             91.78546  \n",
       "ACVR2A_mut                  NaN                   NaN             91.78546  \n",
       "AFF4_mut                    NaN                   NaN             91.78546  \n",
       "AHCTF1_mut                  NaN                   NaN             91.78546  \n",
       "\n",
       "[5 rows x 21 columns]"
      ]
     },
     "execution_count": 7,
     "metadata": {},
     "output_type": "execute_result"
    }
   ],
   "source": [
    "df.ix[0:5]"
   ]
  },
  {
   "cell_type": "markdown",
   "metadata": {},
   "source": [
    "Now, you can create an HTML report or simply call one of the volcano plot"
   ]
  },
  {
   "cell_type": "code",
   "execution_count": 8,
   "metadata": {
    "collapsed": false
   },
   "outputs": [],
   "source": [
    "from gdsctools import volcano"
   ]
  },
  {
   "cell_type": "code",
   "execution_count": 9,
   "metadata": {
    "collapsed": true
   },
   "outputs": [],
   "source": [
    "v = volcano.VolcanoANOVA(df)"
   ]
  },
  {
   "cell_type": "code",
   "execution_count": 13,
   "metadata": {
    "collapsed": false
   },
   "outputs": [
    {
     "data": {
      "image/png": "[encoded data removed]",
      "text/plain": [
       "<matplotlib.figure.Figure at 0x6085bd0>"
      ]
     },
     "metadata": {},
     "output_type": "display_data"
    }
   ],
   "source": [
    "# Currently, the matplotlib plot allows to click on a dot only in a put IPython shell. \n",
    "# This does not work in an ipython notebook. However, the javascript version works (see below)\n",
    "import mpld3\n",
    "mpld3.disable_notebook()\n",
    "v.volcano_plot_one_drug(drug_name)"
   ]
  },
  {
   "cell_type": "code",
   "execution_count": 14,
   "metadata": {
    "collapsed": false,
    "scrolled": true
   },
   "outputs": [
    {
     "data": {
      "text/html": [
       "\n",
       "\n",
       "<style>\n",
       "\n",
       "        svg.mpld3-figure { border: 2px black solid;margin:10px;}\n",
       "        table{  font-size:1.8em;  }\n",
       "        th {  color: #ffffff;  background-color: #aaaaaa;  }\n",
       "        td { color: blue; background-color: #cccccc; }\n",
       "        \n",
       "</style>\n",
       "\n",
       "<div id=\"fig_el14261012110887178748425\"></div>\n",
       "<script>\n",
       "function mpld3_load_lib(url, callback){\n",
       "  var s = document.createElement('script');\n",
       "  s.src = url;\n",
       "  s.async = true;\n",
       "  s.onreadystatechange = s.onload = callback;\n",
       "  s.onerror = function(){console.warn(\"failed to load library \" + url);};\n",
       "  document.getElementsByTagName(\"head\")[0].appendChild(s);\n",
       "}\n",
       "\n",
       "if(typeof(mpld3) !== \"undefined\" && mpld3._mpld3IsLoaded){\n",
       "   // already loaded: just create the figure\n",
       "   !function(mpld3){\n",
       "       \n",
       "    mpld3.register_plugin(\"htmltooltip\", HtmlTooltipPlugin);\n",
       "    HtmlTooltipPlugin.prototype = Object.create(mpld3.Plugin.prototype);\n",
       "    HtmlTooltipPlugin.prototype.constructor = HtmlTooltipPlugin;\n",
       "    HtmlTooltipPlugin.prototype.requiredProps = [\"id\"];\n",
       "    HtmlTooltipPlugin.prototype.defaultProps = {labels:null, hoffset:0, voffset:10};\n",
       "    function HtmlTooltipPlugin(fig, props){\n",
       "        mpld3.Plugin.call(this, fig, props);\n",
       "    };\n",
       "\n",
       "    HtmlTooltipPlugin.prototype.draw = function(){\n",
       "       var obj = mpld3.get_element(this.props.id);\n",
       "       var labels = this.props.labels;\n",
       "       var tooltip = d3.select(\"body\").append(\"div\")\n",
       "                    .attr(\"class\", \"mpld3-tooltip\")\n",
       "                    .style(\"position\", \"absolute\")\n",
       "                    .style(\"z-index\", \"10\")\n",
       "                    .style(\"visibility\", \"hidden\");\n",
       "\n",
       "       obj.elements()\n",
       "           .on(\"mouseover\", function(d, i){\n",
       "                              tooltip.html(labels[i])\n",
       "                                     .style(\"visibility\", \"visible\");})\n",
       "           .on(\"mousemove\", function(d, i){\n",
       "                    tooltip\n",
       "                      .style(\"top\", d3.event.pageY + this.props.voffset + \"px\")\n",
       "                      .style(\"left\",d3.event.pageX + this.props.hoffset + \"px\");\n",
       "                 }.bind(this))\n",
       "           .on(\"mouseout\",  function(d, i){\n",
       "                           tooltip.style(\"visibility\", \"hidden\");});\n",
       "    };\n",
       "    \n",
       "       mpld3.draw_figure(\"fig_el14261012110887178748425\", {\"axes\": [{\"xlim\": [-0.85157137427922636, 0.85157137427922636], \"yscale\": \"linear\", \"axesbg\": \"#EEEEEE\", \"texts\": [{\"v_baseline\": \"hanging\", \"h_anchor\": \"middle\", \"color\": \"#000000\", \"text\": \"Signed effect size\", \"coordinates\": \"axes\", \"zorder\": 3, \"alpha\": 1, \"fontsize\": 20.0, \"position\": [0.5, -0.03265287932350458], \"rotation\": -0.0, \"id\": \"el1426101188752\"}, {\"v_baseline\": \"auto\", \"h_anchor\": \"middle\", \"color\": \"#000000\", \"text\": \"-log10(pvalues)\", \"coordinates\": \"axes\", \"zorder\": 3, \"alpha\": 1, \"fontsize\": 20.0, \"position\": [-0.033983280471668736, 0.5], \"rotation\": -90.0, \"id\": \"el1426101191504\"}, {\"v_baseline\": \"auto\", \"h_anchor\": \"middle\", \"color\": \"#000000\", \"text\": \"Drug  999  IC50\", \"coordinates\": \"axes\", \"zorder\": 3, \"alpha\": 1, \"fontsize\": 12.0, \"position\": [0.5, 1.0089605734767024], \"rotation\": -0.0, \"id\": \"el1426101256656\"}, {\"v_baseline\": \"auto\", \"h_anchor\": \"start\", \"color\": \"#000000\", \"text\": \"None\", \"coordinates\": \"axes\", \"zorder\": 1000003.0, \"alpha\": 1, \"fontsize\": 10.0, \"position\": [-0.16129032258064516, -0.16129032258064516], \"rotation\": -0.0, \"id\": \"el1426102237712\"}, {\"v_baseline\": \"auto\", \"h_anchor\": \"start\", \"color\": \"#000000\", \"text\": \"FDR 25  \\\\%\", \"coordinates\": \"axes\", \"zorder\": 1000003.0, \"alpha\": 1, \"fontsize\": 12.0, \"position\": [0.079569892473118298, 0.96537995642181873], \"rotation\": -0.0, \"id\": \"el1426102203216\"}, {\"v_baseline\": \"auto\", \"h_anchor\": \"start\", \"color\": \"#000000\", \"text\": \"FDR 10 \\\\%\", \"coordinates\": \"axes\", \"zorder\": 1000003.0, \"alpha\": 1, \"fontsize\": 12.0, \"position\": [0.079569892473118298, 0.9347986681172501], \"rotation\": -0.0, \"id\": \"el1426102217872\"}, {\"v_baseline\": \"auto\", \"h_anchor\": \"start\", \"color\": \"#000000\", \"text\": \"FDR 1 \\\\%\", \"coordinates\": \"axes\", \"zorder\": 1000003.0, \"alpha\": 1, \"fontsize\": 12.0, \"position\": [0.079569892473118298, 0.90421737981268169], \"rotation\": -0.0, \"id\": \"el1426102228496\"}, {\"v_baseline\": \"auto\", \"h_anchor\": \"start\", \"color\": \"#000000\", \"text\": \"FDR 0.01 \\\\%\", \"coordinates\": \"axes\", \"zorder\": 1000003.0, \"alpha\": 1, \"fontsize\": 12.0, \"position\": [0.079569892473118298, 0.87363609150811306], \"rotation\": -0.0, \"id\": \"el1426102230864\"}], \"zoomable\": true, \"images\": [], \"xdomain\": [-0.85157137427922636, 0.85157137427922636], \"ylim\": [0.0, 96.0], \"paths\": [{\"edgecolor\": \"#000000\", \"facecolor\": \"#FFFFFF\", \"edgewidth\": 1.0, \"pathcodes\": [\"M\", \"L\", \"L\", \"L\", \"Z\"], \"yindex\": 1, \"coordinates\": \"axes\", \"dasharray\": \"10,0\", \"zorder\": 1000001.0, \"alpha\": 1, \"xindex\": 0, \"data\": \"data08\", \"id\": \"el1426102202896\"}], \"sharey\": [], \"sharex\": [], \"axesbgalpha\": null, \"axes\": [{\"scale\": \"linear\", \"tickformat\": null, \"grid\": {\"color\": \"#FFFFFF\", \"alpha\": 1.0, \"dasharray\": \"10,0\", \"gridOn\": true}, \"fontsize\": 10.0, \"position\": \"bottom\", \"nticks\": 5, \"tickvalues\": null}, {\"scale\": \"linear\", \"tickformat\": null, \"grid\": {\"color\": \"#FFFFFF\", \"alpha\": 1.0, \"dasharray\": \"10,0\", \"gridOn\": true}, \"fontsize\": 10.0, \"position\": \"left\", \"nticks\": 6, \"tickvalues\": null}], \"lines\": [{\"color\": \"#FF0000\", \"yindex\": 1, \"coordinates\": \"display\", \"dasharray\": \"6,6\", \"zorder\": 2, \"alpha\": 1, \"xindex\": 0, \"linewidth\": 1.0, \"data\": \"data01\", \"id\": \"el142691852624\"}, {\"color\": \"#FF0000\", \"yindex\": 1, \"coordinates\": \"display\", \"dasharray\": \"4,4,2,4\", \"zorder\": 2, \"alpha\": 1, \"xindex\": 0, \"linewidth\": 1.0, \"data\": \"data02\", \"id\": \"el1426102187408\"}, {\"color\": \"#FF0000\", \"yindex\": 1, \"coordinates\": \"display\", \"dasharray\": \"2,2\", \"zorder\": 2, \"alpha\": 1, \"xindex\": 0, \"linewidth\": 1.0, \"data\": \"data03\", \"id\": \"el1426102189264\"}, {\"color\": \"#000000\", \"yindex\": 1, \"coordinates\": \"display\", \"dasharray\": \"6,6\", \"zorder\": 2, \"alpha\": 1, \"xindex\": 0, \"linewidth\": 1.0, \"data\": \"data04\", \"id\": \"el1426102190928\"}, {\"color\": \"#808080\", \"yindex\": 1, \"coordinates\": \"display\", \"dasharray\": \"10,0\", \"zorder\": 2, \"alpha\": 0.5, \"xindex\": 0, \"linewidth\": 1.0, \"data\": \"data05\", \"id\": \"el1426102200400\"}, {\"color\": \"#FF0000\", \"yindex\": 1, \"coordinates\": \"axes\", \"dasharray\": \"6,6\", \"zorder\": 1000002.0, \"alpha\": 1, \"xindex\": 0, \"linewidth\": 1.0, \"data\": \"data07\", \"id\": \"el1426102216400\"}, {\"color\": \"#FF0000\", \"yindex\": 2, \"coordinates\": \"axes\", \"dasharray\": \"4,4,2,4\", \"zorder\": 1000002.0, \"alpha\": 1, \"xindex\": 0, \"linewidth\": 1.0, \"data\": \"data07\", \"id\": \"el1426102218768\"}, {\"color\": \"#FF0000\", \"yindex\": 3, \"coordinates\": \"axes\", \"dasharray\": \"2,2\", \"zorder\": 1000002.0, \"alpha\": 1, \"xindex\": 0, \"linewidth\": 1.0, \"data\": \"data07\", \"id\": \"el1426102229392\"}, {\"color\": \"#000000\", \"yindex\": 4, \"coordinates\": \"axes\", \"dasharray\": \"6,6\", \"zorder\": 1000002.0, \"alpha\": 1, \"xindex\": 0, \"linewidth\": 1.0, \"data\": \"data07\", \"id\": \"el1426102231760\"}], \"markers\": [], \"id\": \"el1426101176720\", \"ydomain\": [0.0, 96.0], \"collections\": [{\"paths\": [[[[0.0, -0.5], [0.13260155, -0.5], [0.25978993539242673, -0.44731684579412084], [0.3535533905932738, -0.3535533905932738], [0.44731684579412084, -0.25978993539242673], [0.5, -0.13260155], [0.5, 0.0], [0.5, 0.13260155], [0.44731684579412084, 0.25978993539242673], [0.3535533905932738, 0.3535533905932738], [0.25978993539242673, 0.44731684579412084], [0.13260155, 0.5], [0.0, 0.5], [-0.13260155, 0.5], [-0.25978993539242673, 0.44731684579412084], [-0.3535533905932738, 0.3535533905932738], [-0.44731684579412084, 0.25978993539242673], [-0.5, 0.13260155], [-0.5, 0.0], [-0.5, -0.13260155], [-0.44731684579412084, -0.25978993539242673], [-0.3535533905932738, -0.3535533905932738], [-0.25978993539242673, -0.44731684579412084], [-0.13260155, -0.5], [0.0, -0.5]], [\"M\", \"C\", \"C\", \"C\", \"C\", \"C\", \"C\", \"C\", \"C\", \"Z\"]]], \"edgecolors\": [\"#000000\"], \"edgewidths\": [0.0], \"offsets\": \"data06\", \"yindex\": 1, \"id\": \"el1426102343120\", \"pathtransforms\": [[7.856742013183862, 0.0, 0.0, 7.856742013183862, 0.0, 0.0], [7.856742013183862, 0.0, 0.0, 7.856742013183862, 0.0, 0.0], [7.856742013183862, 0.0, 0.0, 7.856742013183862, 0.0, 0.0], [7.856742013183862, 0.0, 0.0, 7.856742013183862, 0.0, 0.0], [7.856742013183862, 0.0, 0.0, 7.856742013183862, 0.0, 0.0], [7.856742013183862, 0.0, 0.0, 7.856742013183862, 0.0, 0.0], [7.856742013183862, 0.0, 0.0, 7.856742013183862, 0.0, 0.0], [7.856742013183862, 0.0, 0.0, 7.856742013183862, 0.0, 0.0], [7.856742013183862, 0.0, 0.0, 7.856742013183862, 0.0, 0.0], [7.856742013183862, 0.0, 0.0, 7.856742013183862, 0.0, 0.0], [8.488852436836101, 0.0, 0.0, 8.488852436836101, 0.0, 0.0], [7.856742013183862, 0.0, 0.0, 7.856742013183862, 0.0, 0.0], [7.856742013183862, 0.0, 0.0, 7.856742013183862, 0.0, 0.0], [7.856742013183862, 0.0, 0.0, 7.856742013183862, 0.0, 0.0], [7.856742013183862, 0.0, 0.0, 7.856742013183862, 0.0, 0.0], [9.656858413998771, 0.0, 0.0, 9.656858413998771, 0.0, 0.0], [7.856742013183862, 0.0, 0.0, 7.856742013183862, 0.0, 0.0], [7.856742013183862, 0.0, 0.0, 7.856742013183862, 0.0, 0.0], [7.856742013183862, 0.0, 0.0, 7.856742013183862, 0.0, 0.0], [7.856742013183862, 0.0, 0.0, 7.856742013183862, 0.0, 0.0], [7.856742013183862, 0.0, 0.0, 7.856742013183862, 0.0, 0.0], [7.856742013183862, 0.0, 0.0, 7.856742013183862, 0.0, 0.0], [7.856742013183862, 0.0, 0.0, 7.856742013183862, 0.0, 0.0], [7.856742013183862, 0.0, 0.0, 7.856742013183862, 0.0, 0.0], [7.856742013183862, 0.0, 0.0, 7.856742013183862, 0.0, 0.0], [7.856742013183862, 0.0, 0.0, 7.856742013183862, 0.0, 0.0], [7.856742013183862, 0.0, 0.0, 7.856742013183862, 0.0, 0.0], [7.856742013183862, 0.0, 0.0, 7.856742013183862, 0.0, 0.0], [7.856742013183862, 0.0, 0.0, 7.856742013183862, 0.0, 0.0], [7.856742013183862, 0.0, 0.0, 7.856742013183862, 0.0, 0.0], [7.856742013183862, 0.0, 0.0, 7.856742013183862, 0.0, 0.0], [7.856742013183862, 0.0, 0.0, 7.856742013183862, 0.0, 0.0], [7.856742013183862, 0.0, 0.0, 7.856742013183862, 0.0, 0.0], [7.856742013183862, 0.0, 0.0, 7.856742013183862, 0.0, 0.0], [7.856742013183862, 0.0, 0.0, 7.856742013183862, 0.0, 0.0], [7.856742013183862, 0.0, 0.0, 7.856742013183862, 0.0, 0.0], [7.856742013183862, 0.0, 0.0, 7.856742013183862, 0.0, 0.0], [7.856742013183862, 0.0, 0.0, 7.856742013183862, 0.0, 0.0], [7.856742013183862, 0.0, 0.0, 7.856742013183862, 0.0, 0.0], [11.087241886741525, 0.0, 0.0, 11.087241886741525, 0.0, 0.0], [31.426968052735447, 0.0, 0.0, 31.426968052735447, 0.0, 0.0]], \"pathcoordinates\": \"display\", \"offsetcoordinates\": \"data\", \"zorder\": 11, \"xindex\": 0, \"alphas\": [0.3], \"facecolors\": [\"#000000\", \"#000000\", \"#000000\", \"#000000\", \"#000000\", \"#000000\", \"#000000\", \"#000000\", \"#000000\", \"#000000\", \"#000000\", \"#000000\", \"#000000\", \"#000000\", \"#000000\", \"#000000\", \"#000000\", \"#000000\", \"#000000\", \"#000000\", \"#000000\", \"#000000\", \"#000000\", \"#000000\", \"#000000\", \"#000000\", \"#000000\", \"#000000\", \"#000000\", \"#000000\", \"#000000\", \"#000000\", \"#000000\", \"#000000\", \"#000000\", \"#000000\", \"#000000\", \"#000000\", \"#000000\", \"#000000\", \"#000000\"]}], \"xscale\": \"linear\", \"bbox\": [0.125, 0.125, 0.77500000000000002, 0.77500000000000002]}], \"height\": 800.0, \"width\": 800.0, \"plugins\": [{\"type\": \"reset\"}, {\"enabled\": false, \"button\": true, \"type\": \"zoom\"}, {\"enabled\": false, \"button\": true, \"type\": \"boxzoom\"}, {\"voffset\": 10, \"labels\": [\"<table border=\\\"1\\\" class=\\\"dataframe\\\">\\n  <tbody>\\n    <tr>\\n      <th>Drug</th>\\n      <td>Drug_999_IC50</td>\\n    </tr>\\n    <tr>\\n      <th>Feature</th>\\n      <td>ABCB1_mut</td>\\n    </tr>\\n    <tr>\\n      <th>FDR</th>\\n      <td>91.7855</td>\\n    </tr>\\n  </tbody>\\n</table>\", \"<table border=\\\"1\\\" class=\\\"dataframe\\\">\\n  <tbody>\\n    <tr>\\n      <th>Drug</th>\\n      <td>Drug_999_IC50</td>\\n    </tr>\\n    <tr>\\n      <th>Feature</th>\\n      <td>ABL2_mut</td>\\n    </tr>\\n    <tr>\\n      <th>FDR</th>\\n      <td>91.7855</td>\\n    </tr>\\n  </tbody>\\n</table>\", \"<table border=\\\"1\\\" class=\\\"dataframe\\\">\\n  <tbody>\\n    <tr>\\n      <th>Drug</th>\\n      <td>Drug_999_IC50</td>\\n    </tr>\\n    <tr>\\n      <th>Feature</th>\\n      <td>ACVR2A_mut</td>\\n    </tr>\\n    <tr>\\n      <th>FDR</th>\\n      <td>91.7855</td>\\n    </tr>\\n  </tbody>\\n</table>\", \"<table border=\\\"1\\\" class=\\\"dataframe\\\">\\n  <tbody>\\n    <tr>\\n      <th>Drug</th>\\n      <td>Drug_999_IC50</td>\\n    </tr>\\n    <tr>\\n      <th>Feature</th>\\n      <td>AFF4_mut</td>\\n    </tr>\\n    <tr>\\n      <th>FDR</th>\\n      <td>91.7855</td>\\n    </tr>\\n  </tbody>\\n</table>\", \"<table border=\\\"1\\\" class=\\\"dataframe\\\">\\n  <tbody>\\n    <tr>\\n      <th>Drug</th>\\n      <td>Drug_999_IC50</td>\\n    </tr>\\n    <tr>\\n      <th>Feature</th>\\n      <td>AHCTF1_mut</td>\\n    </tr>\\n    <tr>\\n      <th>FDR</th>\\n      <td>91.7855</td>\\n    </tr>\\n  </tbody>\\n</table>\", \"<table border=\\\"1\\\" class=\\\"dataframe\\\">\\n  <tbody>\\n    <tr>\\n      <th>Drug</th>\\n      <td>Drug_999_IC50</td>\\n    </tr>\\n    <tr>\\n      <th>Feature</th>\\n      <td>AHNAK_mut</td>\\n    </tr>\\n    <tr>\\n      <th>FDR</th>\\n      <td>91.7855</td>\\n    </tr>\\n  </tbody>\\n</table>\", \"<table border=\\\"1\\\" class=\\\"dataframe\\\">\\n  <tbody>\\n    <tr>\\n      <th>Drug</th>\\n      <td>Drug_999_IC50</td>\\n    </tr>\\n    <tr>\\n      <th>Feature</th>\\n      <td>AKAP9_mut</td>\\n    </tr>\\n    <tr>\\n      <th>FDR</th>\\n      <td>91.7855</td>\\n    </tr>\\n  </tbody>\\n</table>\", \"<table border=\\\"1\\\" class=\\\"dataframe\\\">\\n  <tbody>\\n    <tr>\\n      <th>Drug</th>\\n      <td>Drug_999_IC50</td>\\n    </tr>\\n    <tr>\\n      <th>Feature</th>\\n      <td>ALK_mut</td>\\n    </tr>\\n    <tr>\\n      <th>FDR</th>\\n      <td>91.7855</td>\\n    </tr>\\n  </tbody>\\n</table>\", \"<table border=\\\"1\\\" class=\\\"dataframe\\\">\\n  <tbody>\\n    <tr>\\n      <th>Drug</th>\\n      <td>Drug_999_IC50</td>\\n    </tr>\\n    <tr>\\n      <th>Feature</th>\\n      <td>ANK3_mut</td>\\n    </tr>\\n    <tr>\\n      <th>FDR</th>\\n      <td>91.7855</td>\\n    </tr>\\n  </tbody>\\n</table>\", \"<table border=\\\"1\\\" class=\\\"dataframe\\\">\\n  <tbody>\\n    <tr>\\n      <th>Drug</th>\\n      <td>Drug_999_IC50</td>\\n    </tr>\\n    <tr>\\n      <th>Feature</th>\\n      <td>APAF1_mut</td>\\n    </tr>\\n    <tr>\\n      <th>FDR</th>\\n      <td>91.7855</td>\\n    </tr>\\n  </tbody>\\n</table>\", \"<table border=\\\"1\\\" class=\\\"dataframe\\\">\\n  <tbody>\\n    <tr>\\n      <th>Drug</th>\\n      <td>Drug_999_IC50</td>\\n    </tr>\\n    <tr>\\n      <th>Feature</th>\\n      <td>APC_mut</td>\\n    </tr>\\n    <tr>\\n      <th>FDR</th>\\n      <td>91.7855</td>\\n    </tr>\\n  </tbody>\\n</table>\", \"<table border=\\\"1\\\" class=\\\"dataframe\\\">\\n  <tbody>\\n    <tr>\\n      <th>Drug</th>\\n      <td>Drug_999_IC50</td>\\n    </tr>\\n    <tr>\\n      <th>Feature</th>\\n      <td>ARAP3_mut</td>\\n    </tr>\\n    <tr>\\n      <th>FDR</th>\\n      <td>91.7855</td>\\n    </tr>\\n  </tbody>\\n</table>\", \"<table border=\\\"1\\\" class=\\\"dataframe\\\">\\n  <tbody>\\n    <tr>\\n      <th>Drug</th>\\n      <td>Drug_999_IC50</td>\\n    </tr>\\n    <tr>\\n      <th>Feature</th>\\n      <td>ARFGAP3_mut</td>\\n    </tr>\\n    <tr>\\n      <th>FDR</th>\\n      <td>91.7855</td>\\n    </tr>\\n  </tbody>\\n</table>\", \"<table border=\\\"1\\\" class=\\\"dataframe\\\">\\n  <tbody>\\n    <tr>\\n      <th>Drug</th>\\n      <td>Drug_999_IC50</td>\\n    </tr>\\n    <tr>\\n      <th>Feature</th>\\n      <td>ARFGEF1_mut</td>\\n    </tr>\\n    <tr>\\n      <th>FDR</th>\\n      <td>91.7855</td>\\n    </tr>\\n  </tbody>\\n</table>\", \"<table border=\\\"1\\\" class=\\\"dataframe\\\">\\n  <tbody>\\n    <tr>\\n      <th>Drug</th>\\n      <td>Drug_999_IC50</td>\\n    </tr>\\n    <tr>\\n      <th>Feature</th>\\n      <td>ARHGAP29_mut</td>\\n    </tr>\\n    <tr>\\n      <th>FDR</th>\\n      <td>91.7855</td>\\n    </tr>\\n  </tbody>\\n</table>\", \"<table border=\\\"1\\\" class=\\\"dataframe\\\">\\n  <tbody>\\n    <tr>\\n      <th>Drug</th>\\n      <td>Drug_999_IC50</td>\\n    </tr>\\n    <tr>\\n      <th>Feature</th>\\n      <td>ARID1A_mut</td>\\n    </tr>\\n    <tr>\\n      <th>FDR</th>\\n      <td>91.7855</td>\\n    </tr>\\n  </tbody>\\n</table>\", \"<table border=\\\"1\\\" class=\\\"dataframe\\\">\\n  <tbody>\\n    <tr>\\n      <th>Drug</th>\\n      <td>Drug_999_IC50</td>\\n    </tr>\\n    <tr>\\n      <th>Feature</th>\\n      <td>ARID1B_mut</td>\\n    </tr>\\n    <tr>\\n      <th>FDR</th>\\n      <td>91.7855</td>\\n    </tr>\\n  </tbody>\\n</table>\", \"<table border=\\\"1\\\" class=\\\"dataframe\\\">\\n  <tbody>\\n    <tr>\\n      <th>Drug</th>\\n      <td>Drug_999_IC50</td>\\n    </tr>\\n    <tr>\\n      <th>Feature</th>\\n      <td>ARID2_mut</td>\\n    </tr>\\n    <tr>\\n      <th>FDR</th>\\n      <td>91.7855</td>\\n    </tr>\\n  </tbody>\\n</table>\", \"<table border=\\\"1\\\" class=\\\"dataframe\\\">\\n  <tbody>\\n    <tr>\\n      <th>Drug</th>\\n      <td>Drug_999_IC50</td>\\n    </tr>\\n    <tr>\\n      <th>Feature</th>\\n      <td>ARID4A_mut</td>\\n    </tr>\\n    <tr>\\n      <th>FDR</th>\\n      <td>91.7855</td>\\n    </tr>\\n  </tbody>\\n</table>\", \"<table border=\\\"1\\\" class=\\\"dataframe\\\">\\n  <tbody>\\n    <tr>\\n      <th>Drug</th>\\n      <td>Drug_999_IC50</td>\\n    </tr>\\n    <tr>\\n      <th>Feature</th>\\n      <td>ARID4B_mut</td>\\n    </tr>\\n    <tr>\\n      <th>FDR</th>\\n      <td>91.7855</td>\\n    </tr>\\n  </tbody>\\n</table>\", \"<table border=\\\"1\\\" class=\\\"dataframe\\\">\\n  <tbody>\\n    <tr>\\n      <th>Drug</th>\\n      <td>Drug_999_IC50</td>\\n    </tr>\\n    <tr>\\n      <th>Feature</th>\\n      <td>ARID5B_mut</td>\\n    </tr>\\n    <tr>\\n      <th>FDR</th>\\n      <td>95.0879</td>\\n    </tr>\\n  </tbody>\\n</table>\", \"<table border=\\\"1\\\" class=\\\"dataframe\\\">\\n  <tbody>\\n    <tr>\\n      <th>Drug</th>\\n      <td>Drug_999_IC50</td>\\n    </tr>\\n    <tr>\\n      <th>Feature</th>\\n      <td>ASH1L_mut</td>\\n    </tr>\\n    <tr>\\n      <th>FDR</th>\\n      <td>91.7855</td>\\n    </tr>\\n  </tbody>\\n</table>\", \"<table border=\\\"1\\\" class=\\\"dataframe\\\">\\n  <tbody>\\n    <tr>\\n      <th>Drug</th>\\n      <td>Drug_999_IC50</td>\\n    </tr>\\n    <tr>\\n      <th>Feature</th>\\n      <td>ASPM_mut</td>\\n    </tr>\\n    <tr>\\n      <th>FDR</th>\\n      <td>91.7855</td>\\n    </tr>\\n  </tbody>\\n</table>\", \"<table border=\\\"1\\\" class=\\\"dataframe\\\">\\n  <tbody>\\n    <tr>\\n      <th>Drug</th>\\n      <td>Drug_999_IC50</td>\\n    </tr>\\n    <tr>\\n      <th>Feature</th>\\n      <td>ASXL1_mut</td>\\n    </tr>\\n    <tr>\\n      <th>FDR</th>\\n      <td>91.7855</td>\\n    </tr>\\n  </tbody>\\n</table>\", \"<table border=\\\"1\\\" class=\\\"dataframe\\\">\\n  <tbody>\\n    <tr>\\n      <th>Drug</th>\\n      <td>Drug_999_IC50</td>\\n    </tr>\\n    <tr>\\n      <th>Feature</th>\\n      <td>ASXL2_mut</td>\\n    </tr>\\n    <tr>\\n      <th>FDR</th>\\n      <td>91.7855</td>\\n    </tr>\\n  </tbody>\\n</table>\", \"<table border=\\\"1\\\" class=\\\"dataframe\\\">\\n  <tbody>\\n    <tr>\\n      <th>Drug</th>\\n      <td>Drug_999_IC50</td>\\n    </tr>\\n    <tr>\\n      <th>Feature</th>\\n      <td>ATM_mut</td>\\n    </tr>\\n    <tr>\\n      <th>FDR</th>\\n      <td>91.7855</td>\\n    </tr>\\n  </tbody>\\n</table>\", \"<table border=\\\"1\\\" class=\\\"dataframe\\\">\\n  <tbody>\\n    <tr>\\n      <th>Drug</th>\\n      <td>Drug_999_IC50</td>\\n    </tr>\\n    <tr>\\n      <th>Feature</th>\\n      <td>ATR_mut</td>\\n    </tr>\\n    <tr>\\n      <th>FDR</th>\\n      <td>91.7855</td>\\n    </tr>\\n  </tbody>\\n</table>\", \"<table border=\\\"1\\\" class=\\\"dataframe\\\">\\n  <tbody>\\n    <tr>\\n      <th>Drug</th>\\n      <td>Drug_999_IC50</td>\\n    </tr>\\n    <tr>\\n      <th>Feature</th>\\n      <td>AXIN1_mut</td>\\n    </tr>\\n    <tr>\\n      <th>FDR</th>\\n      <td>91.7855</td>\\n    </tr>\\n  </tbody>\\n</table>\", \"<table border=\\\"1\\\" class=\\\"dataframe\\\">\\n  <tbody>\\n    <tr>\\n      <th>Drug</th>\\n      <td>Drug_999_IC50</td>\\n    </tr>\\n    <tr>\\n      <th>Feature</th>\\n      <td>AXIN2_mut</td>\\n    </tr>\\n    <tr>\\n      <th>FDR</th>\\n      <td>91.7855</td>\\n    </tr>\\n  </tbody>\\n</table>\", \"<table border=\\\"1\\\" class=\\\"dataframe\\\">\\n  <tbody>\\n    <tr>\\n      <th>Drug</th>\\n      <td>Drug_999_IC50</td>\\n    </tr>\\n    <tr>\\n      <th>Feature</th>\\n      <td>B2M_mut</td>\\n    </tr>\\n    <tr>\\n      <th>FDR</th>\\n      <td>91.7855</td>\\n    </tr>\\n  </tbody>\\n</table>\", \"<table border=\\\"1\\\" class=\\\"dataframe\\\">\\n  <tbody>\\n    <tr>\\n      <th>Drug</th>\\n      <td>Drug_999_IC50</td>\\n    </tr>\\n    <tr>\\n      <th>Feature</th>\\n      <td>BAP1_mut</td>\\n    </tr>\\n    <tr>\\n      <th>FDR</th>\\n      <td>91.7855</td>\\n    </tr>\\n  </tbody>\\n</table>\", \"<table border=\\\"1\\\" class=\\\"dataframe\\\">\\n  <tbody>\\n    <tr>\\n      <th>Drug</th>\\n      <td>Drug_999_IC50</td>\\n    </tr>\\n    <tr>\\n      <th>Feature</th>\\n      <td>BAZ2B_mut</td>\\n    </tr>\\n    <tr>\\n      <th>FDR</th>\\n      <td>91.7855</td>\\n    </tr>\\n  </tbody>\\n</table>\", \"<table border=\\\"1\\\" class=\\\"dataframe\\\">\\n  <tbody>\\n    <tr>\\n      <th>Drug</th>\\n      <td>Drug_999_IC50</td>\\n    </tr>\\n    <tr>\\n      <th>Feature</th>\\n      <td>BCLAF1_mut</td>\\n    </tr>\\n    <tr>\\n      <th>FDR</th>\\n      <td>91.7855</td>\\n    </tr>\\n  </tbody>\\n</table>\", \"<table border=\\\"1\\\" class=\\\"dataframe\\\">\\n  <tbody>\\n    <tr>\\n      <th>Drug</th>\\n      <td>Drug_999_IC50</td>\\n    </tr>\\n    <tr>\\n      <th>Feature</th>\\n      <td>BCOR_mut</td>\\n    </tr>\\n    <tr>\\n      <th>FDR</th>\\n      <td>91.7855</td>\\n    </tr>\\n  </tbody>\\n</table>\", \"<table border=\\\"1\\\" class=\\\"dataframe\\\">\\n  <tbody>\\n    <tr>\\n      <th>Drug</th>\\n      <td>Drug_999_IC50</td>\\n    </tr>\\n    <tr>\\n      <th>Feature</th>\\n      <td>BCR-ABL_mut</td>\\n    </tr>\\n    <tr>\\n      <th>FDR</th>\\n      <td>91.7855</td>\\n    </tr>\\n  </tbody>\\n</table>\", \"<table border=\\\"1\\\" class=\\\"dataframe\\\">\\n  <tbody>\\n    <tr>\\n      <th>Drug</th>\\n      <td>Drug_999_IC50</td>\\n    </tr>\\n    <tr>\\n      <th>Feature</th>\\n      <td>BLM_mut</td>\\n    </tr>\\n    <tr>\\n      <th>FDR</th>\\n      <td>91.7855</td>\\n    </tr>\\n  </tbody>\\n</table>\", \"<table border=\\\"1\\\" class=\\\"dataframe\\\">\\n  <tbody>\\n    <tr>\\n      <th>Drug</th>\\n      <td>Drug_999_IC50</td>\\n    </tr>\\n    <tr>\\n      <th>Feature</th>\\n      <td>BMPR2_mut</td>\\n    </tr>\\n    <tr>\\n      <th>FDR</th>\\n      <td>91.7855</td>\\n    </tr>\\n  </tbody>\\n</table>\", \"<table border=\\\"1\\\" class=\\\"dataframe\\\">\\n  <tbody>\\n    <tr>\\n      <th>Drug</th>\\n      <td>Drug_999_IC50</td>\\n    </tr>\\n    <tr>\\n      <th>Feature</th>\\n      <td>BNC2_mut</td>\\n    </tr>\\n    <tr>\\n      <th>FDR</th>\\n      <td>91.7855</td>\\n    </tr>\\n  </tbody>\\n</table>\", \"<table border=\\\"1\\\" class=\\\"dataframe\\\">\\n  <tbody>\\n    <tr>\\n      <th>Drug</th>\\n      <td>Drug_999_IC50</td>\\n    </tr>\\n    <tr>\\n      <th>Feature</th>\\n      <td>BPTF_mut</td>\\n    </tr>\\n    <tr>\\n      <th>FDR</th>\\n      <td>91.7855</td>\\n    </tr>\\n  </tbody>\\n</table>\", \"<table border=\\\"1\\\" class=\\\"dataframe\\\">\\n  <tbody>\\n    <tr>\\n      <th>Drug</th>\\n      <td>Drug_999_IC50</td>\\n    </tr>\\n    <tr>\\n      <th>Feature</th>\\n      <td>BRAF_mut</td>\\n    </tr>\\n    <tr>\\n      <th>FDR</th>\\n      <td>91.7855</td>\\n    </tr>\\n  </tbody>\\n</table>\", \"<table border=\\\"1\\\" class=\\\"dataframe\\\">\\n  <tbody>\\n    <tr>\\n      <th>Drug</th>\\n      <td>Drug_999_IC50</td>\\n    </tr>\\n    <tr>\\n      <th>Feature</th>\\n      <td>TP53_mut</td>\\n    </tr>\\n    <tr>\\n      <th>FDR</th>\\n      <td>91.7855</td>\\n    </tr>\\n  </tbody>\\n</table>\"], \"type\": \"htmltooltip\", \"id\": \"el1426102343120\", \"hoffset\": 0}], \"data\": {\"data08\": [[0.010752688172043029, 0.8604705457064569], [0.2048512804072263, 0.8604705457064569], [0.2048512804072263, 0.9892473118279569], [0.010752688172043029, 0.9892473118279569]], \"data06\": [[0.31, 0.06], [0.43, 0.17], [-0.09, 0.47], [0.1, 0.13], [0.48, 0.29], [0.23, 0.45], [0.41, 0.18], [-0.02, 0.13], [0.31, 0.29], [0.46, 0.23], [0.22, 0.63], [0.65, 0.26], [0.09, 0.08], [0.0, 0.07], [-0.08, 0.27], [0.01, 0.12], [-0.16, 0.57], [0.76, 1.05], [0.13, 0.09], [0.6, 0.46], [0.21, 0.02], [0.4, 0.26], [-0.11, 0.83], [0.2, 0.39], [0.2, 0.18], [0.0, 0.29], [0.07, 0.11], [0.41, 0.15], [0.48, 0.28], [0.24, 0.24], [0.39, 1.45], [0.77, 0.66], [-0.01, 0.21], [0.02, 0.1], [-0.13, 0.13], [0.11, 0.04], [0.26, 0.12], [0.01, 0.13], [0.25, 0.31], [0.2, 0.18], [-0.01, 0.04], [-1.0, 70.0]], \"data07\": [[0.02580645161290322, 0.9729068381422489, 0.9423255498376802, 0.9117442615331118, 0.8811629732285432], [0.05591397849462365, 0.9729068381422489, 0.9423255498376802, 0.9117442615331118, 0.8811629732285432]], \"data04\": [[NaN, NaN], [NaN, NaN]], \"data05\": [[410.0, 100.0], [410.0, 720.0]], \"data02\": [[NaN, NaN], [NaN, NaN]], \"data03\": [[NaN, NaN], [NaN, NaN]], \"data01\": [[NaN, NaN], [NaN, NaN]]}, \"id\": \"el1426101211088\"});\n",
       "   }(mpld3);\n",
       "}else if(typeof define === \"function\" && define.amd){\n",
       "   // require.js is available: use it to load d3/mpld3\n",
       "   require.config({paths: {d3: \"https://mpld3.github.io/js/d3.v3.min\"}});\n",
       "   require([\"d3\"], function(d3){\n",
       "      window.d3 = d3;\n",
       "      mpld3_load_lib(\"https://mpld3.github.io/js/mpld3.v0.2.js\", function(){\n",
       "         \n",
       "    mpld3.register_plugin(\"htmltooltip\", HtmlTooltipPlugin);\n",
       "    HtmlTooltipPlugin.prototype = Object.create(mpld3.Plugin.prototype);\n",
       "    HtmlTooltipPlugin.prototype.constructor = HtmlTooltipPlugin;\n",
       "    HtmlTooltipPlugin.prototype.requiredProps = [\"id\"];\n",
       "    HtmlTooltipPlugin.prototype.defaultProps = {labels:null, hoffset:0, voffset:10};\n",
       "    function HtmlTooltipPlugin(fig, props){\n",
       "        mpld3.Plugin.call(this, fig, props);\n",
       "    };\n",
       "\n",
       "    HtmlTooltipPlugin.prototype.draw = function(){\n",
       "       var obj = mpld3.get_element(this.props.id);\n",
       "       var labels = this.props.labels;\n",
       "       var tooltip = d3.select(\"body\").append(\"div\")\n",
       "                    .attr(\"class\", \"mpld3-tooltip\")\n",
       "                    .style(\"position\", \"absolute\")\n",
       "                    .style(\"z-index\", \"10\")\n",
       "                    .style(\"visibility\", \"hidden\");\n",
       "\n",
       "       obj.elements()\n",
       "           .on(\"mouseover\", function(d, i){\n",
       "                              tooltip.html(labels[i])\n",
       "                                     .style(\"visibility\", \"visible\");})\n",
       "           .on(\"mousemove\", function(d, i){\n",
       "                    tooltip\n",
       "                      .style(\"top\", d3.event.pageY + this.props.voffset + \"px\")\n",
       "                      .style(\"left\",d3.event.pageX + this.props.hoffset + \"px\");\n",
       "                 }.bind(this))\n",
       "           .on(\"mouseout\",  function(d, i){\n",
       "                           tooltip.style(\"visibility\", \"hidden\");});\n",
       "    };\n",
       "    \n",
       "         mpld3.draw_figure(\"fig_el14261012110887178748425\", {\"axes\": [{\"xlim\": [-0.85157137427922636, 0.85157137427922636], \"yscale\": \"linear\", \"axesbg\": \"#EEEEEE\", \"texts\": [{\"v_baseline\": \"hanging\", \"h_anchor\": \"middle\", \"color\": \"#000000\", \"text\": \"Signed effect size\", \"coordinates\": \"axes\", \"zorder\": 3, \"alpha\": 1, \"fontsize\": 20.0, \"position\": [0.5, -0.03265287932350458], \"rotation\": -0.0, \"id\": \"el1426101188752\"}, {\"v_baseline\": \"auto\", \"h_anchor\": \"middle\", \"color\": \"#000000\", \"text\": \"-log10(pvalues)\", \"coordinates\": \"axes\", \"zorder\": 3, \"alpha\": 1, \"fontsize\": 20.0, \"position\": [-0.033983280471668736, 0.5], \"rotation\": -90.0, \"id\": \"el1426101191504\"}, {\"v_baseline\": \"auto\", \"h_anchor\": \"middle\", \"color\": \"#000000\", \"text\": \"Drug  999  IC50\", \"coordinates\": \"axes\", \"zorder\": 3, \"alpha\": 1, \"fontsize\": 12.0, \"position\": [0.5, 1.0089605734767024], \"rotation\": -0.0, \"id\": \"el1426101256656\"}, {\"v_baseline\": \"auto\", \"h_anchor\": \"start\", \"color\": \"#000000\", \"text\": \"None\", \"coordinates\": \"axes\", \"zorder\": 1000003.0, \"alpha\": 1, \"fontsize\": 10.0, \"position\": [-0.16129032258064516, -0.16129032258064516], \"rotation\": -0.0, \"id\": \"el1426102237712\"}, {\"v_baseline\": \"auto\", \"h_anchor\": \"start\", \"color\": \"#000000\", \"text\": \"FDR 25  \\\\%\", \"coordinates\": \"axes\", \"zorder\": 1000003.0, \"alpha\": 1, \"fontsize\": 12.0, \"position\": [0.079569892473118298, 0.96537995642181873], \"rotation\": -0.0, \"id\": \"el1426102203216\"}, {\"v_baseline\": \"auto\", \"h_anchor\": \"start\", \"color\": \"#000000\", \"text\": \"FDR 10 \\\\%\", \"coordinates\": \"axes\", \"zorder\": 1000003.0, \"alpha\": 1, \"fontsize\": 12.0, \"position\": [0.079569892473118298, 0.9347986681172501], \"rotation\": -0.0, \"id\": \"el1426102217872\"}, {\"v_baseline\": \"auto\", \"h_anchor\": \"start\", \"color\": \"#000000\", \"text\": \"FDR 1 \\\\%\", \"coordinates\": \"axes\", \"zorder\": 1000003.0, \"alpha\": 1, \"fontsize\": 12.0, \"position\": [0.079569892473118298, 0.90421737981268169], \"rotation\": -0.0, \"id\": \"el1426102228496\"}, {\"v_baseline\": \"auto\", \"h_anchor\": \"start\", \"color\": \"#000000\", \"text\": \"FDR 0.01 \\\\%\", \"coordinates\": \"axes\", \"zorder\": 1000003.0, \"alpha\": 1, \"fontsize\": 12.0, \"position\": [0.079569892473118298, 0.87363609150811306], \"rotation\": -0.0, \"id\": \"el1426102230864\"}], \"zoomable\": true, \"images\": [], \"xdomain\": [-0.85157137427922636, 0.85157137427922636], \"ylim\": [0.0, 96.0], \"paths\": [{\"edgecolor\": \"#000000\", \"facecolor\": \"#FFFFFF\", \"edgewidth\": 1.0, \"pathcodes\": [\"M\", \"L\", \"L\", \"L\", \"Z\"], \"yindex\": 1, \"coordinates\": \"axes\", \"dasharray\": \"10,0\", \"zorder\": 1000001.0, \"alpha\": 1, \"xindex\": 0, \"data\": \"data08\", \"id\": \"el1426102202896\"}], \"sharey\": [], \"sharex\": [], \"axesbgalpha\": null, \"axes\": [{\"scale\": \"linear\", \"tickformat\": null, \"grid\": {\"color\": \"#FFFFFF\", \"alpha\": 1.0, \"dasharray\": \"10,0\", \"gridOn\": true}, \"fontsize\": 10.0, \"position\": \"bottom\", \"nticks\": 5, \"tickvalues\": null}, {\"scale\": \"linear\", \"tickformat\": null, \"grid\": {\"color\": \"#FFFFFF\", \"alpha\": 1.0, \"dasharray\": \"10,0\", \"gridOn\": true}, \"fontsize\": 10.0, \"position\": \"left\", \"nticks\": 6, \"tickvalues\": null}], \"lines\": [{\"color\": \"#FF0000\", \"yindex\": 1, \"coordinates\": \"display\", \"dasharray\": \"6,6\", \"zorder\": 2, \"alpha\": 1, \"xindex\": 0, \"linewidth\": 1.0, \"data\": \"data01\", \"id\": \"el142691852624\"}, {\"color\": \"#FF0000\", \"yindex\": 1, \"coordinates\": \"display\", \"dasharray\": \"4,4,2,4\", \"zorder\": 2, \"alpha\": 1, \"xindex\": 0, \"linewidth\": 1.0, \"data\": \"data02\", \"id\": \"el1426102187408\"}, {\"color\": \"#FF0000\", \"yindex\": 1, \"coordinates\": \"display\", \"dasharray\": \"2,2\", \"zorder\": 2, \"alpha\": 1, \"xindex\": 0, \"linewidth\": 1.0, \"data\": \"data03\", \"id\": \"el1426102189264\"}, {\"color\": \"#000000\", \"yindex\": 1, \"coordinates\": \"display\", \"dasharray\": \"6,6\", \"zorder\": 2, \"alpha\": 1, \"xindex\": 0, \"linewidth\": 1.0, \"data\": \"data04\", \"id\": \"el1426102190928\"}, {\"color\": \"#808080\", \"yindex\": 1, \"coordinates\": \"display\", \"dasharray\": \"10,0\", \"zorder\": 2, \"alpha\": 0.5, \"xindex\": 0, \"linewidth\": 1.0, \"data\": \"data05\", \"id\": \"el1426102200400\"}, {\"color\": \"#FF0000\", \"yindex\": 1, \"coordinates\": \"axes\", \"dasharray\": \"6,6\", \"zorder\": 1000002.0, \"alpha\": 1, \"xindex\": 0, \"linewidth\": 1.0, \"data\": \"data07\", \"id\": \"el1426102216400\"}, {\"color\": \"#FF0000\", \"yindex\": 2, \"coordinates\": \"axes\", \"dasharray\": \"4,4,2,4\", \"zorder\": 1000002.0, \"alpha\": 1, \"xindex\": 0, \"linewidth\": 1.0, \"data\": \"data07\", \"id\": \"el1426102218768\"}, {\"color\": \"#FF0000\", \"yindex\": 3, \"coordinates\": \"axes\", \"dasharray\": \"2,2\", \"zorder\": 1000002.0, \"alpha\": 1, \"xindex\": 0, \"linewidth\": 1.0, \"data\": \"data07\", \"id\": \"el1426102229392\"}, {\"color\": \"#000000\", \"yindex\": 4, \"coordinates\": \"axes\", \"dasharray\": \"6,6\", \"zorder\": 1000002.0, \"alpha\": 1, \"xindex\": 0, \"linewidth\": 1.0, \"data\": \"data07\", \"id\": \"el1426102231760\"}], \"markers\": [], \"id\": \"el1426101176720\", \"ydomain\": [0.0, 96.0], \"collections\": [{\"paths\": [[[[0.0, -0.5], [0.13260155, -0.5], [0.25978993539242673, -0.44731684579412084], [0.3535533905932738, -0.3535533905932738], [0.44731684579412084, -0.25978993539242673], [0.5, -0.13260155], [0.5, 0.0], [0.5, 0.13260155], [0.44731684579412084, 0.25978993539242673], [0.3535533905932738, 0.3535533905932738], [0.25978993539242673, 0.44731684579412084], [0.13260155, 0.5], [0.0, 0.5], [-0.13260155, 0.5], [-0.25978993539242673, 0.44731684579412084], [-0.3535533905932738, 0.3535533905932738], [-0.44731684579412084, 0.25978993539242673], [-0.5, 0.13260155], [-0.5, 0.0], [-0.5, -0.13260155], [-0.44731684579412084, -0.25978993539242673], [-0.3535533905932738, -0.3535533905932738], [-0.25978993539242673, -0.44731684579412084], [-0.13260155, -0.5], [0.0, -0.5]], [\"M\", \"C\", \"C\", \"C\", \"C\", \"C\", \"C\", \"C\", \"C\", \"Z\"]]], \"edgecolors\": [\"#000000\"], \"edgewidths\": [0.0], \"offsets\": \"data06\", \"yindex\": 1, \"id\": \"el1426102343120\", \"pathtransforms\": [[7.856742013183862, 0.0, 0.0, 7.856742013183862, 0.0, 0.0], [7.856742013183862, 0.0, 0.0, 7.856742013183862, 0.0, 0.0], [7.856742013183862, 0.0, 0.0, 7.856742013183862, 0.0, 0.0], [7.856742013183862, 0.0, 0.0, 7.856742013183862, 0.0, 0.0], [7.856742013183862, 0.0, 0.0, 7.856742013183862, 0.0, 0.0], [7.856742013183862, 0.0, 0.0, 7.856742013183862, 0.0, 0.0], [7.856742013183862, 0.0, 0.0, 7.856742013183862, 0.0, 0.0], [7.856742013183862, 0.0, 0.0, 7.856742013183862, 0.0, 0.0], [7.856742013183862, 0.0, 0.0, 7.856742013183862, 0.0, 0.0], [7.856742013183862, 0.0, 0.0, 7.856742013183862, 0.0, 0.0], [8.488852436836101, 0.0, 0.0, 8.488852436836101, 0.0, 0.0], [7.856742013183862, 0.0, 0.0, 7.856742013183862, 0.0, 0.0], [7.856742013183862, 0.0, 0.0, 7.856742013183862, 0.0, 0.0], [7.856742013183862, 0.0, 0.0, 7.856742013183862, 0.0, 0.0], [7.856742013183862, 0.0, 0.0, 7.856742013183862, 0.0, 0.0], [9.656858413998771, 0.0, 0.0, 9.656858413998771, 0.0, 0.0], [7.856742013183862, 0.0, 0.0, 7.856742013183862, 0.0, 0.0], [7.856742013183862, 0.0, 0.0, 7.856742013183862, 0.0, 0.0], [7.856742013183862, 0.0, 0.0, 7.856742013183862, 0.0, 0.0], [7.856742013183862, 0.0, 0.0, 7.856742013183862, 0.0, 0.0], [7.856742013183862, 0.0, 0.0, 7.856742013183862, 0.0, 0.0], [7.856742013183862, 0.0, 0.0, 7.856742013183862, 0.0, 0.0], [7.856742013183862, 0.0, 0.0, 7.856742013183862, 0.0, 0.0], [7.856742013183862, 0.0, 0.0, 7.856742013183862, 0.0, 0.0], [7.856742013183862, 0.0, 0.0, 7.856742013183862, 0.0, 0.0], [7.856742013183862, 0.0, 0.0, 7.856742013183862, 0.0, 0.0], [7.856742013183862, 0.0, 0.0, 7.856742013183862, 0.0, 0.0], [7.856742013183862, 0.0, 0.0, 7.856742013183862, 0.0, 0.0], [7.856742013183862, 0.0, 0.0, 7.856742013183862, 0.0, 0.0], [7.856742013183862, 0.0, 0.0, 7.856742013183862, 0.0, 0.0], [7.856742013183862, 0.0, 0.0, 7.856742013183862, 0.0, 0.0], [7.856742013183862, 0.0, 0.0, 7.856742013183862, 0.0, 0.0], [7.856742013183862, 0.0, 0.0, 7.856742013183862, 0.0, 0.0], [7.856742013183862, 0.0, 0.0, 7.856742013183862, 0.0, 0.0], [7.856742013183862, 0.0, 0.0, 7.856742013183862, 0.0, 0.0], [7.856742013183862, 0.0, 0.0, 7.856742013183862, 0.0, 0.0], [7.856742013183862, 0.0, 0.0, 7.856742013183862, 0.0, 0.0], [7.856742013183862, 0.0, 0.0, 7.856742013183862, 0.0, 0.0], [7.856742013183862, 0.0, 0.0, 7.856742013183862, 0.0, 0.0], [11.087241886741525, 0.0, 0.0, 11.087241886741525, 0.0, 0.0], [31.426968052735447, 0.0, 0.0, 31.426968052735447, 0.0, 0.0]], \"pathcoordinates\": \"display\", \"offsetcoordinates\": \"data\", \"zorder\": 11, \"xindex\": 0, \"alphas\": [0.3], \"facecolors\": [\"#000000\", \"#000000\", \"#000000\", \"#000000\", \"#000000\", \"#000000\", \"#000000\", \"#000000\", \"#000000\", \"#000000\", \"#000000\", \"#000000\", \"#000000\", \"#000000\", \"#000000\", \"#000000\", \"#000000\", \"#000000\", \"#000000\", \"#000000\", \"#000000\", \"#000000\", \"#000000\", \"#000000\", \"#000000\", \"#000000\", \"#000000\", \"#000000\", \"#000000\", \"#000000\", \"#000000\", \"#000000\", \"#000000\", \"#000000\", \"#000000\", \"#000000\", \"#000000\", \"#000000\", \"#000000\", \"#000000\", \"#000000\"]}], \"xscale\": \"linear\", \"bbox\": [0.125, 0.125, 0.77500000000000002, 0.77500000000000002]}], \"height\": 800.0, \"width\": 800.0, \"plugins\": [{\"type\": \"reset\"}, {\"enabled\": false, \"button\": true, \"type\": \"zoom\"}, {\"enabled\": false, \"button\": true, \"type\": \"boxzoom\"}, {\"voffset\": 10, \"labels\": [\"<table border=\\\"1\\\" class=\\\"dataframe\\\">\\n  <tbody>\\n    <tr>\\n      <th>Drug</th>\\n      <td>Drug_999_IC50</td>\\n    </tr>\\n    <tr>\\n      <th>Feature</th>\\n      <td>ABCB1_mut</td>\\n    </tr>\\n    <tr>\\n      <th>FDR</th>\\n      <td>91.7855</td>\\n    </tr>\\n  </tbody>\\n</table>\", \"<table border=\\\"1\\\" class=\\\"dataframe\\\">\\n  <tbody>\\n    <tr>\\n      <th>Drug</th>\\n      <td>Drug_999_IC50</td>\\n    </tr>\\n    <tr>\\n      <th>Feature</th>\\n      <td>ABL2_mut</td>\\n    </tr>\\n    <tr>\\n      <th>FDR</th>\\n      <td>91.7855</td>\\n    </tr>\\n  </tbody>\\n</table>\", \"<table border=\\\"1\\\" class=\\\"dataframe\\\">\\n  <tbody>\\n    <tr>\\n      <th>Drug</th>\\n      <td>Drug_999_IC50</td>\\n    </tr>\\n    <tr>\\n      <th>Feature</th>\\n      <td>ACVR2A_mut</td>\\n    </tr>\\n    <tr>\\n      <th>FDR</th>\\n      <td>91.7855</td>\\n    </tr>\\n  </tbody>\\n</table>\", \"<table border=\\\"1\\\" class=\\\"dataframe\\\">\\n  <tbody>\\n    <tr>\\n      <th>Drug</th>\\n      <td>Drug_999_IC50</td>\\n    </tr>\\n    <tr>\\n      <th>Feature</th>\\n      <td>AFF4_mut</td>\\n    </tr>\\n    <tr>\\n      <th>FDR</th>\\n      <td>91.7855</td>\\n    </tr>\\n  </tbody>\\n</table>\", \"<table border=\\\"1\\\" class=\\\"dataframe\\\">\\n  <tbody>\\n    <tr>\\n      <th>Drug</th>\\n      <td>Drug_999_IC50</td>\\n    </tr>\\n    <tr>\\n      <th>Feature</th>\\n      <td>AHCTF1_mut</td>\\n    </tr>\\n    <tr>\\n      <th>FDR</th>\\n      <td>91.7855</td>\\n    </tr>\\n  </tbody>\\n</table>\", \"<table border=\\\"1\\\" class=\\\"dataframe\\\">\\n  <tbody>\\n    <tr>\\n      <th>Drug</th>\\n      <td>Drug_999_IC50</td>\\n    </tr>\\n    <tr>\\n      <th>Feature</th>\\n      <td>AHNAK_mut</td>\\n    </tr>\\n    <tr>\\n      <th>FDR</th>\\n      <td>91.7855</td>\\n    </tr>\\n  </tbody>\\n</table>\", \"<table border=\\\"1\\\" class=\\\"dataframe\\\">\\n  <tbody>\\n    <tr>\\n      <th>Drug</th>\\n      <td>Drug_999_IC50</td>\\n    </tr>\\n    <tr>\\n      <th>Feature</th>\\n      <td>AKAP9_mut</td>\\n    </tr>\\n    <tr>\\n      <th>FDR</th>\\n      <td>91.7855</td>\\n    </tr>\\n  </tbody>\\n</table>\", \"<table border=\\\"1\\\" class=\\\"dataframe\\\">\\n  <tbody>\\n    <tr>\\n      <th>Drug</th>\\n      <td>Drug_999_IC50</td>\\n    </tr>\\n    <tr>\\n      <th>Feature</th>\\n      <td>ALK_mut</td>\\n    </tr>\\n    <tr>\\n      <th>FDR</th>\\n      <td>91.7855</td>\\n    </tr>\\n  </tbody>\\n</table>\", \"<table border=\\\"1\\\" class=\\\"dataframe\\\">\\n  <tbody>\\n    <tr>\\n      <th>Drug</th>\\n      <td>Drug_999_IC50</td>\\n    </tr>\\n    <tr>\\n      <th>Feature</th>\\n      <td>ANK3_mut</td>\\n    </tr>\\n    <tr>\\n      <th>FDR</th>\\n      <td>91.7855</td>\\n    </tr>\\n  </tbody>\\n</table>\", \"<table border=\\\"1\\\" class=\\\"dataframe\\\">\\n  <tbody>\\n    <tr>\\n      <th>Drug</th>\\n      <td>Drug_999_IC50</td>\\n    </tr>\\n    <tr>\\n      <th>Feature</th>\\n      <td>APAF1_mut</td>\\n    </tr>\\n    <tr>\\n      <th>FDR</th>\\n      <td>91.7855</td>\\n    </tr>\\n  </tbody>\\n</table>\", \"<table border=\\\"1\\\" class=\\\"dataframe\\\">\\n  <tbody>\\n    <tr>\\n      <th>Drug</th>\\n      <td>Drug_999_IC50</td>\\n    </tr>\\n    <tr>\\n      <th>Feature</th>\\n      <td>APC_mut</td>\\n    </tr>\\n    <tr>\\n      <th>FDR</th>\\n      <td>91.7855</td>\\n    </tr>\\n  </tbody>\\n</table>\", \"<table border=\\\"1\\\" class=\\\"dataframe\\\">\\n  <tbody>\\n    <tr>\\n      <th>Drug</th>\\n      <td>Drug_999_IC50</td>\\n    </tr>\\n    <tr>\\n      <th>Feature</th>\\n      <td>ARAP3_mut</td>\\n    </tr>\\n    <tr>\\n      <th>FDR</th>\\n      <td>91.7855</td>\\n    </tr>\\n  </tbody>\\n</table>\", \"<table border=\\\"1\\\" class=\\\"dataframe\\\">\\n  <tbody>\\n    <tr>\\n      <th>Drug</th>\\n      <td>Drug_999_IC50</td>\\n    </tr>\\n    <tr>\\n      <th>Feature</th>\\n      <td>ARFGAP3_mut</td>\\n    </tr>\\n    <tr>\\n      <th>FDR</th>\\n      <td>91.7855</td>\\n    </tr>\\n  </tbody>\\n</table>\", \"<table border=\\\"1\\\" class=\\\"dataframe\\\">\\n  <tbody>\\n    <tr>\\n      <th>Drug</th>\\n      <td>Drug_999_IC50</td>\\n    </tr>\\n    <tr>\\n      <th>Feature</th>\\n      <td>ARFGEF1_mut</td>\\n    </tr>\\n    <tr>\\n      <th>FDR</th>\\n      <td>91.7855</td>\\n    </tr>\\n  </tbody>\\n</table>\", \"<table border=\\\"1\\\" class=\\\"dataframe\\\">\\n  <tbody>\\n    <tr>\\n      <th>Drug</th>\\n      <td>Drug_999_IC50</td>\\n    </tr>\\n    <tr>\\n      <th>Feature</th>\\n      <td>ARHGAP29_mut</td>\\n    </tr>\\n    <tr>\\n      <th>FDR</th>\\n      <td>91.7855</td>\\n    </tr>\\n  </tbody>\\n</table>\", \"<table border=\\\"1\\\" class=\\\"dataframe\\\">\\n  <tbody>\\n    <tr>\\n      <th>Drug</th>\\n      <td>Drug_999_IC50</td>\\n    </tr>\\n    <tr>\\n      <th>Feature</th>\\n      <td>ARID1A_mut</td>\\n    </tr>\\n    <tr>\\n      <th>FDR</th>\\n      <td>91.7855</td>\\n    </tr>\\n  </tbody>\\n</table>\", \"<table border=\\\"1\\\" class=\\\"dataframe\\\">\\n  <tbody>\\n    <tr>\\n      <th>Drug</th>\\n      <td>Drug_999_IC50</td>\\n    </tr>\\n    <tr>\\n      <th>Feature</th>\\n      <td>ARID1B_mut</td>\\n    </tr>\\n    <tr>\\n      <th>FDR</th>\\n      <td>91.7855</td>\\n    </tr>\\n  </tbody>\\n</table>\", \"<table border=\\\"1\\\" class=\\\"dataframe\\\">\\n  <tbody>\\n    <tr>\\n      <th>Drug</th>\\n      <td>Drug_999_IC50</td>\\n    </tr>\\n    <tr>\\n      <th>Feature</th>\\n      <td>ARID2_mut</td>\\n    </tr>\\n    <tr>\\n      <th>FDR</th>\\n      <td>91.7855</td>\\n    </tr>\\n  </tbody>\\n</table>\", \"<table border=\\\"1\\\" class=\\\"dataframe\\\">\\n  <tbody>\\n    <tr>\\n      <th>Drug</th>\\n      <td>Drug_999_IC50</td>\\n    </tr>\\n    <tr>\\n      <th>Feature</th>\\n      <td>ARID4A_mut</td>\\n    </tr>\\n    <tr>\\n      <th>FDR</th>\\n      <td>91.7855</td>\\n    </tr>\\n  </tbody>\\n</table>\", \"<table border=\\\"1\\\" class=\\\"dataframe\\\">\\n  <tbody>\\n    <tr>\\n      <th>Drug</th>\\n      <td>Drug_999_IC50</td>\\n    </tr>\\n    <tr>\\n      <th>Feature</th>\\n      <td>ARID4B_mut</td>\\n    </tr>\\n    <tr>\\n      <th>FDR</th>\\n      <td>91.7855</td>\\n    </tr>\\n  </tbody>\\n</table>\", \"<table border=\\\"1\\\" class=\\\"dataframe\\\">\\n  <tbody>\\n    <tr>\\n      <th>Drug</th>\\n      <td>Drug_999_IC50</td>\\n    </tr>\\n    <tr>\\n      <th>Feature</th>\\n      <td>ARID5B_mut</td>\\n    </tr>\\n    <tr>\\n      <th>FDR</th>\\n      <td>95.0879</td>\\n    </tr>\\n  </tbody>\\n</table>\", \"<table border=\\\"1\\\" class=\\\"dataframe\\\">\\n  <tbody>\\n    <tr>\\n      <th>Drug</th>\\n      <td>Drug_999_IC50</td>\\n    </tr>\\n    <tr>\\n      <th>Feature</th>\\n      <td>ASH1L_mut</td>\\n    </tr>\\n    <tr>\\n      <th>FDR</th>\\n      <td>91.7855</td>\\n    </tr>\\n  </tbody>\\n</table>\", \"<table border=\\\"1\\\" class=\\\"dataframe\\\">\\n  <tbody>\\n    <tr>\\n      <th>Drug</th>\\n      <td>Drug_999_IC50</td>\\n    </tr>\\n    <tr>\\n      <th>Feature</th>\\n      <td>ASPM_mut</td>\\n    </tr>\\n    <tr>\\n      <th>FDR</th>\\n      <td>91.7855</td>\\n    </tr>\\n  </tbody>\\n</table>\", \"<table border=\\\"1\\\" class=\\\"dataframe\\\">\\n  <tbody>\\n    <tr>\\n      <th>Drug</th>\\n      <td>Drug_999_IC50</td>\\n    </tr>\\n    <tr>\\n      <th>Feature</th>\\n      <td>ASXL1_mut</td>\\n    </tr>\\n    <tr>\\n      <th>FDR</th>\\n      <td>91.7855</td>\\n    </tr>\\n  </tbody>\\n</table>\", \"<table border=\\\"1\\\" class=\\\"dataframe\\\">\\n  <tbody>\\n    <tr>\\n      <th>Drug</th>\\n      <td>Drug_999_IC50</td>\\n    </tr>\\n    <tr>\\n      <th>Feature</th>\\n      <td>ASXL2_mut</td>\\n    </tr>\\n    <tr>\\n      <th>FDR</th>\\n      <td>91.7855</td>\\n    </tr>\\n  </tbody>\\n</table>\", \"<table border=\\\"1\\\" class=\\\"dataframe\\\">\\n  <tbody>\\n    <tr>\\n      <th>Drug</th>\\n      <td>Drug_999_IC50</td>\\n    </tr>\\n    <tr>\\n      <th>Feature</th>\\n      <td>ATM_mut</td>\\n    </tr>\\n    <tr>\\n      <th>FDR</th>\\n      <td>91.7855</td>\\n    </tr>\\n  </tbody>\\n</table>\", \"<table border=\\\"1\\\" class=\\\"dataframe\\\">\\n  <tbody>\\n    <tr>\\n      <th>Drug</th>\\n      <td>Drug_999_IC50</td>\\n    </tr>\\n    <tr>\\n      <th>Feature</th>\\n      <td>ATR_mut</td>\\n    </tr>\\n    <tr>\\n      <th>FDR</th>\\n      <td>91.7855</td>\\n    </tr>\\n  </tbody>\\n</table>\", \"<table border=\\\"1\\\" class=\\\"dataframe\\\">\\n  <tbody>\\n    <tr>\\n      <th>Drug</th>\\n      <td>Drug_999_IC50</td>\\n    </tr>\\n    <tr>\\n      <th>Feature</th>\\n      <td>AXIN1_mut</td>\\n    </tr>\\n    <tr>\\n      <th>FDR</th>\\n      <td>91.7855</td>\\n    </tr>\\n  </tbody>\\n</table>\", \"<table border=\\\"1\\\" class=\\\"dataframe\\\">\\n  <tbody>\\n    <tr>\\n      <th>Drug</th>\\n      <td>Drug_999_IC50</td>\\n    </tr>\\n    <tr>\\n      <th>Feature</th>\\n      <td>AXIN2_mut</td>\\n    </tr>\\n    <tr>\\n      <th>FDR</th>\\n      <td>91.7855</td>\\n    </tr>\\n  </tbody>\\n</table>\", \"<table border=\\\"1\\\" class=\\\"dataframe\\\">\\n  <tbody>\\n    <tr>\\n      <th>Drug</th>\\n      <td>Drug_999_IC50</td>\\n    </tr>\\n    <tr>\\n      <th>Feature</th>\\n      <td>B2M_mut</td>\\n    </tr>\\n    <tr>\\n      <th>FDR</th>\\n      <td>91.7855</td>\\n    </tr>\\n  </tbody>\\n</table>\", \"<table border=\\\"1\\\" class=\\\"dataframe\\\">\\n  <tbody>\\n    <tr>\\n      <th>Drug</th>\\n      <td>Drug_999_IC50</td>\\n    </tr>\\n    <tr>\\n      <th>Feature</th>\\n      <td>BAP1_mut</td>\\n    </tr>\\n    <tr>\\n      <th>FDR</th>\\n      <td>91.7855</td>\\n    </tr>\\n  </tbody>\\n</table>\", \"<table border=\\\"1\\\" class=\\\"dataframe\\\">\\n  <tbody>\\n    <tr>\\n      <th>Drug</th>\\n      <td>Drug_999_IC50</td>\\n    </tr>\\n    <tr>\\n      <th>Feature</th>\\n      <td>BAZ2B_mut</td>\\n    </tr>\\n    <tr>\\n      <th>FDR</th>\\n      <td>91.7855</td>\\n    </tr>\\n  </tbody>\\n</table>\", \"<table border=\\\"1\\\" class=\\\"dataframe\\\">\\n  <tbody>\\n    <tr>\\n      <th>Drug</th>\\n      <td>Drug_999_IC50</td>\\n    </tr>\\n    <tr>\\n      <th>Feature</th>\\n      <td>BCLAF1_mut</td>\\n    </tr>\\n    <tr>\\n      <th>FDR</th>\\n      <td>91.7855</td>\\n    </tr>\\n  </tbody>\\n</table>\", \"<table border=\\\"1\\\" class=\\\"dataframe\\\">\\n  <tbody>\\n    <tr>\\n      <th>Drug</th>\\n      <td>Drug_999_IC50</td>\\n    </tr>\\n    <tr>\\n      <th>Feature</th>\\n      <td>BCOR_mut</td>\\n    </tr>\\n    <tr>\\n      <th>FDR</th>\\n      <td>91.7855</td>\\n    </tr>\\n  </tbody>\\n</table>\", \"<table border=\\\"1\\\" class=\\\"dataframe\\\">\\n  <tbody>\\n    <tr>\\n      <th>Drug</th>\\n      <td>Drug_999_IC50</td>\\n    </tr>\\n    <tr>\\n      <th>Feature</th>\\n      <td>BCR-ABL_mut</td>\\n    </tr>\\n    <tr>\\n      <th>FDR</th>\\n      <td>91.7855</td>\\n    </tr>\\n  </tbody>\\n</table>\", \"<table border=\\\"1\\\" class=\\\"dataframe\\\">\\n  <tbody>\\n    <tr>\\n      <th>Drug</th>\\n      <td>Drug_999_IC50</td>\\n    </tr>\\n    <tr>\\n      <th>Feature</th>\\n      <td>BLM_mut</td>\\n    </tr>\\n    <tr>\\n      <th>FDR</th>\\n      <td>91.7855</td>\\n    </tr>\\n  </tbody>\\n</table>\", \"<table border=\\\"1\\\" class=\\\"dataframe\\\">\\n  <tbody>\\n    <tr>\\n      <th>Drug</th>\\n      <td>Drug_999_IC50</td>\\n    </tr>\\n    <tr>\\n      <th>Feature</th>\\n      <td>BMPR2_mut</td>\\n    </tr>\\n    <tr>\\n      <th>FDR</th>\\n      <td>91.7855</td>\\n    </tr>\\n  </tbody>\\n</table>\", \"<table border=\\\"1\\\" class=\\\"dataframe\\\">\\n  <tbody>\\n    <tr>\\n      <th>Drug</th>\\n      <td>Drug_999_IC50</td>\\n    </tr>\\n    <tr>\\n      <th>Feature</th>\\n      <td>BNC2_mut</td>\\n    </tr>\\n    <tr>\\n      <th>FDR</th>\\n      <td>91.7855</td>\\n    </tr>\\n  </tbody>\\n</table>\", \"<table border=\\\"1\\\" class=\\\"dataframe\\\">\\n  <tbody>\\n    <tr>\\n      <th>Drug</th>\\n      <td>Drug_999_IC50</td>\\n    </tr>\\n    <tr>\\n      <th>Feature</th>\\n      <td>BPTF_mut</td>\\n    </tr>\\n    <tr>\\n      <th>FDR</th>\\n      <td>91.7855</td>\\n    </tr>\\n  </tbody>\\n</table>\", \"<table border=\\\"1\\\" class=\\\"dataframe\\\">\\n  <tbody>\\n    <tr>\\n      <th>Drug</th>\\n      <td>Drug_999_IC50</td>\\n    </tr>\\n    <tr>\\n      <th>Feature</th>\\n      <td>BRAF_mut</td>\\n    </tr>\\n    <tr>\\n      <th>FDR</th>\\n      <td>91.7855</td>\\n    </tr>\\n  </tbody>\\n</table>\", \"<table border=\\\"1\\\" class=\\\"dataframe\\\">\\n  <tbody>\\n    <tr>\\n      <th>Drug</th>\\n      <td>Drug_999_IC50</td>\\n    </tr>\\n    <tr>\\n      <th>Feature</th>\\n      <td>TP53_mut</td>\\n    </tr>\\n    <tr>\\n      <th>FDR</th>\\n      <td>91.7855</td>\\n    </tr>\\n  </tbody>\\n</table>\"], \"type\": \"htmltooltip\", \"id\": \"el1426102343120\", \"hoffset\": 0}], \"data\": {\"data08\": [[0.010752688172043029, 0.8604705457064569], [0.2048512804072263, 0.8604705457064569], [0.2048512804072263, 0.9892473118279569], [0.010752688172043029, 0.9892473118279569]], \"data06\": [[0.31, 0.06], [0.43, 0.17], [-0.09, 0.47], [0.1, 0.13], [0.48, 0.29], [0.23, 0.45], [0.41, 0.18], [-0.02, 0.13], [0.31, 0.29], [0.46, 0.23], [0.22, 0.63], [0.65, 0.26], [0.09, 0.08], [0.0, 0.07], [-0.08, 0.27], [0.01, 0.12], [-0.16, 0.57], [0.76, 1.05], [0.13, 0.09], [0.6, 0.46], [0.21, 0.02], [0.4, 0.26], [-0.11, 0.83], [0.2, 0.39], [0.2, 0.18], [0.0, 0.29], [0.07, 0.11], [0.41, 0.15], [0.48, 0.28], [0.24, 0.24], [0.39, 1.45], [0.77, 0.66], [-0.01, 0.21], [0.02, 0.1], [-0.13, 0.13], [0.11, 0.04], [0.26, 0.12], [0.01, 0.13], [0.25, 0.31], [0.2, 0.18], [-0.01, 0.04], [-1.0, 70.0]], \"data07\": [[0.02580645161290322, 0.9729068381422489, 0.9423255498376802, 0.9117442615331118, 0.8811629732285432], [0.05591397849462365, 0.9729068381422489, 0.9423255498376802, 0.9117442615331118, 0.8811629732285432]], \"data04\": [[NaN, NaN], [NaN, NaN]], \"data05\": [[410.0, 100.0], [410.0, 720.0]], \"data02\": [[NaN, NaN], [NaN, NaN]], \"data03\": [[NaN, NaN], [NaN, NaN]], \"data01\": [[NaN, NaN], [NaN, NaN]]}, \"id\": \"el1426101211088\"});\n",
       "      });\n",
       "    });\n",
       "}else{\n",
       "    // require.js not available: dynamically load d3 & mpld3\n",
       "    mpld3_load_lib(\"https://mpld3.github.io/js/d3.v3.min.js\", function(){\n",
       "         mpld3_load_lib(\"https://mpld3.github.io/js/mpld3.v0.2.js\", function(){\n",
       "                 \n",
       "    mpld3.register_plugin(\"htmltooltip\", HtmlTooltipPlugin);\n",
       "    HtmlTooltipPlugin.prototype = Object.create(mpld3.Plugin.prototype);\n",
       "    HtmlTooltipPlugin.prototype.constructor = HtmlTooltipPlugin;\n",
       "    HtmlTooltipPlugin.prototype.requiredProps = [\"id\"];\n",
       "    HtmlTooltipPlugin.prototype.defaultProps = {labels:null, hoffset:0, voffset:10};\n",
       "    function HtmlTooltipPlugin(fig, props){\n",
       "        mpld3.Plugin.call(this, fig, props);\n",
       "    };\n",
       "\n",
       "    HtmlTooltipPlugin.prototype.draw = function(){\n",
       "       var obj = mpld3.get_element(this.props.id);\n",
       "       var labels = this.props.labels;\n",
       "       var tooltip = d3.select(\"body\").append(\"div\")\n",
       "                    .attr(\"class\", \"mpld3-tooltip\")\n",
       "                    .style(\"position\", \"absolute\")\n",
       "                    .style(\"z-index\", \"10\")\n",
       "                    .style(\"visibility\", \"hidden\");\n",
       "\n",
       "       obj.elements()\n",
       "           .on(\"mouseover\", function(d, i){\n",
       "                              tooltip.html(labels[i])\n",
       "                                     .style(\"visibility\", \"visible\");})\n",
       "           .on(\"mousemove\", function(d, i){\n",
       "                    tooltip\n",
       "                      .style(\"top\", d3.event.pageY + this.props.voffset + \"px\")\n",
       "                      .style(\"left\",d3.event.pageX + this.props.hoffset + \"px\");\n",
       "                 }.bind(this))\n",
       "           .on(\"mouseout\",  function(d, i){\n",
       "                           tooltip.style(\"visibility\", \"hidden\");});\n",
       "    };\n",
       "    \n",
       "                 mpld3.draw_figure(\"fig_el14261012110887178748425\", {\"axes\": [{\"xlim\": [-0.85157137427922636, 0.85157137427922636], \"yscale\": \"linear\", \"axesbg\": \"#EEEEEE\", \"texts\": [{\"v_baseline\": \"hanging\", \"h_anchor\": \"middle\", \"color\": \"#000000\", \"text\": \"Signed effect size\", \"coordinates\": \"axes\", \"zorder\": 3, \"alpha\": 1, \"fontsize\": 20.0, \"position\": [0.5, -0.03265287932350458], \"rotation\": -0.0, \"id\": \"el1426101188752\"}, {\"v_baseline\": \"auto\", \"h_anchor\": \"middle\", \"color\": \"#000000\", \"text\": \"-log10(pvalues)\", \"coordinates\": \"axes\", \"zorder\": 3, \"alpha\": 1, \"fontsize\": 20.0, \"position\": [-0.033983280471668736, 0.5], \"rotation\": -90.0, \"id\": \"el1426101191504\"}, {\"v_baseline\": \"auto\", \"h_anchor\": \"middle\", \"color\": \"#000000\", \"text\": \"Drug  999  IC50\", \"coordinates\": \"axes\", \"zorder\": 3, \"alpha\": 1, \"fontsize\": 12.0, \"position\": [0.5, 1.0089605734767024], \"rotation\": -0.0, \"id\": \"el1426101256656\"}, {\"v_baseline\": \"auto\", \"h_anchor\": \"start\", \"color\": \"#000000\", \"text\": \"None\", \"coordinates\": \"axes\", \"zorder\": 1000003.0, \"alpha\": 1, \"fontsize\": 10.0, \"position\": [-0.16129032258064516, -0.16129032258064516], \"rotation\": -0.0, \"id\": \"el1426102237712\"}, {\"v_baseline\": \"auto\", \"h_anchor\": \"start\", \"color\": \"#000000\", \"text\": \"FDR 25  \\\\%\", \"coordinates\": \"axes\", \"zorder\": 1000003.0, \"alpha\": 1, \"fontsize\": 12.0, \"position\": [0.079569892473118298, 0.96537995642181873], \"rotation\": -0.0, \"id\": \"el1426102203216\"}, {\"v_baseline\": \"auto\", \"h_anchor\": \"start\", \"color\": \"#000000\", \"text\": \"FDR 10 \\\\%\", \"coordinates\": \"axes\", \"zorder\": 1000003.0, \"alpha\": 1, \"fontsize\": 12.0, \"position\": [0.079569892473118298, 0.9347986681172501], \"rotation\": -0.0, \"id\": \"el1426102217872\"}, {\"v_baseline\": \"auto\", \"h_anchor\": \"start\", \"color\": \"#000000\", \"text\": \"FDR 1 \\\\%\", \"coordinates\": \"axes\", \"zorder\": 1000003.0, \"alpha\": 1, \"fontsize\": 12.0, \"position\": [0.079569892473118298, 0.90421737981268169], \"rotation\": -0.0, \"id\": \"el1426102228496\"}, {\"v_baseline\": \"auto\", \"h_anchor\": \"start\", \"color\": \"#000000\", \"text\": \"FDR 0.01 \\\\%\", \"coordinates\": \"axes\", \"zorder\": 1000003.0, \"alpha\": 1, \"fontsize\": 12.0, \"position\": [0.079569892473118298, 0.87363609150811306], \"rotation\": -0.0, \"id\": \"el1426102230864\"}], \"zoomable\": true, \"images\": [], \"xdomain\": [-0.85157137427922636, 0.85157137427922636], \"ylim\": [0.0, 96.0], \"paths\": [{\"edgecolor\": \"#000000\", \"facecolor\": \"#FFFFFF\", \"edgewidth\": 1.0, \"pathcodes\": [\"M\", \"L\", \"L\", \"L\", \"Z\"], \"yindex\": 1, \"coordinates\": \"axes\", \"dasharray\": \"10,0\", \"zorder\": 1000001.0, \"alpha\": 1, \"xindex\": 0, \"data\": \"data08\", \"id\": \"el1426102202896\"}], \"sharey\": [], \"sharex\": [], \"axesbgalpha\": null, \"axes\": [{\"scale\": \"linear\", \"tickformat\": null, \"grid\": {\"color\": \"#FFFFFF\", \"alpha\": 1.0, \"dasharray\": \"10,0\", \"gridOn\": true}, \"fontsize\": 10.0, \"position\": \"bottom\", \"nticks\": 5, \"tickvalues\": null}, {\"scale\": \"linear\", \"tickformat\": null, \"grid\": {\"color\": \"#FFFFFF\", \"alpha\": 1.0, \"dasharray\": \"10,0\", \"gridOn\": true}, \"fontsize\": 10.0, \"position\": \"left\", \"nticks\": 6, \"tickvalues\": null}], \"lines\": [{\"color\": \"#FF0000\", \"yindex\": 1, \"coordinates\": \"display\", \"dasharray\": \"6,6\", \"zorder\": 2, \"alpha\": 1, \"xindex\": 0, \"linewidth\": 1.0, \"data\": \"data01\", \"id\": \"el142691852624\"}, {\"color\": \"#FF0000\", \"yindex\": 1, \"coordinates\": \"display\", \"dasharray\": \"4,4,2,4\", \"zorder\": 2, \"alpha\": 1, \"xindex\": 0, \"linewidth\": 1.0, \"data\": \"data02\", \"id\": \"el1426102187408\"}, {\"color\": \"#FF0000\", \"yindex\": 1, \"coordinates\": \"display\", \"dasharray\": \"2,2\", \"zorder\": 2, \"alpha\": 1, \"xindex\": 0, \"linewidth\": 1.0, \"data\": \"data03\", \"id\": \"el1426102189264\"}, {\"color\": \"#000000\", \"yindex\": 1, \"coordinates\": \"display\", \"dasharray\": \"6,6\", \"zorder\": 2, \"alpha\": 1, \"xindex\": 0, \"linewidth\": 1.0, \"data\": \"data04\", \"id\": \"el1426102190928\"}, {\"color\": \"#808080\", \"yindex\": 1, \"coordinates\": \"display\", \"dasharray\": \"10,0\", \"zorder\": 2, \"alpha\": 0.5, \"xindex\": 0, \"linewidth\": 1.0, \"data\": \"data05\", \"id\": \"el1426102200400\"}, {\"color\": \"#FF0000\", \"yindex\": 1, \"coordinates\": \"axes\", \"dasharray\": \"6,6\", \"zorder\": 1000002.0, \"alpha\": 1, \"xindex\": 0, \"linewidth\": 1.0, \"data\": \"data07\", \"id\": \"el1426102216400\"}, {\"color\": \"#FF0000\", \"yindex\": 2, \"coordinates\": \"axes\", \"dasharray\": \"4,4,2,4\", \"zorder\": 1000002.0, \"alpha\": 1, \"xindex\": 0, \"linewidth\": 1.0, \"data\": \"data07\", \"id\": \"el1426102218768\"}, {\"color\": \"#FF0000\", \"yindex\": 3, \"coordinates\": \"axes\", \"dasharray\": \"2,2\", \"zorder\": 1000002.0, \"alpha\": 1, \"xindex\": 0, \"linewidth\": 1.0, \"data\": \"data07\", \"id\": \"el1426102229392\"}, {\"color\": \"#000000\", \"yindex\": 4, \"coordinates\": \"axes\", \"dasharray\": \"6,6\", \"zorder\": 1000002.0, \"alpha\": 1, \"xindex\": 0, \"linewidth\": 1.0, \"data\": \"data07\", \"id\": \"el1426102231760\"}], \"markers\": [], \"id\": \"el1426101176720\", \"ydomain\": [0.0, 96.0], \"collections\": [{\"paths\": [[[[0.0, -0.5], [0.13260155, -0.5], [0.25978993539242673, -0.44731684579412084], [0.3535533905932738, -0.3535533905932738], [0.44731684579412084, -0.25978993539242673], [0.5, -0.13260155], [0.5, 0.0], [0.5, 0.13260155], [0.44731684579412084, 0.25978993539242673], [0.3535533905932738, 0.3535533905932738], [0.25978993539242673, 0.44731684579412084], [0.13260155, 0.5], [0.0, 0.5], [-0.13260155, 0.5], [-0.25978993539242673, 0.44731684579412084], [-0.3535533905932738, 0.3535533905932738], [-0.44731684579412084, 0.25978993539242673], [-0.5, 0.13260155], [-0.5, 0.0], [-0.5, -0.13260155], [-0.44731684579412084, -0.25978993539242673], [-0.3535533905932738, -0.3535533905932738], [-0.25978993539242673, -0.44731684579412084], [-0.13260155, -0.5], [0.0, -0.5]], [\"M\", \"C\", \"C\", \"C\", \"C\", \"C\", \"C\", \"C\", \"C\", \"Z\"]]], \"edgecolors\": [\"#000000\"], \"edgewidths\": [0.0], \"offsets\": \"data06\", \"yindex\": 1, \"id\": \"el1426102343120\", \"pathtransforms\": [[7.856742013183862, 0.0, 0.0, 7.856742013183862, 0.0, 0.0], [7.856742013183862, 0.0, 0.0, 7.856742013183862, 0.0, 0.0], [7.856742013183862, 0.0, 0.0, 7.856742013183862, 0.0, 0.0], [7.856742013183862, 0.0, 0.0, 7.856742013183862, 0.0, 0.0], [7.856742013183862, 0.0, 0.0, 7.856742013183862, 0.0, 0.0], [7.856742013183862, 0.0, 0.0, 7.856742013183862, 0.0, 0.0], [7.856742013183862, 0.0, 0.0, 7.856742013183862, 0.0, 0.0], [7.856742013183862, 0.0, 0.0, 7.856742013183862, 0.0, 0.0], [7.856742013183862, 0.0, 0.0, 7.856742013183862, 0.0, 0.0], [7.856742013183862, 0.0, 0.0, 7.856742013183862, 0.0, 0.0], [8.488852436836101, 0.0, 0.0, 8.488852436836101, 0.0, 0.0], [7.856742013183862, 0.0, 0.0, 7.856742013183862, 0.0, 0.0], [7.856742013183862, 0.0, 0.0, 7.856742013183862, 0.0, 0.0], [7.856742013183862, 0.0, 0.0, 7.856742013183862, 0.0, 0.0], [7.856742013183862, 0.0, 0.0, 7.856742013183862, 0.0, 0.0], [9.656858413998771, 0.0, 0.0, 9.656858413998771, 0.0, 0.0], [7.856742013183862, 0.0, 0.0, 7.856742013183862, 0.0, 0.0], [7.856742013183862, 0.0, 0.0, 7.856742013183862, 0.0, 0.0], [7.856742013183862, 0.0, 0.0, 7.856742013183862, 0.0, 0.0], [7.856742013183862, 0.0, 0.0, 7.856742013183862, 0.0, 0.0], [7.856742013183862, 0.0, 0.0, 7.856742013183862, 0.0, 0.0], [7.856742013183862, 0.0, 0.0, 7.856742013183862, 0.0, 0.0], [7.856742013183862, 0.0, 0.0, 7.856742013183862, 0.0, 0.0], [7.856742013183862, 0.0, 0.0, 7.856742013183862, 0.0, 0.0], [7.856742013183862, 0.0, 0.0, 7.856742013183862, 0.0, 0.0], [7.856742013183862, 0.0, 0.0, 7.856742013183862, 0.0, 0.0], [7.856742013183862, 0.0, 0.0, 7.856742013183862, 0.0, 0.0], [7.856742013183862, 0.0, 0.0, 7.856742013183862, 0.0, 0.0], [7.856742013183862, 0.0, 0.0, 7.856742013183862, 0.0, 0.0], [7.856742013183862, 0.0, 0.0, 7.856742013183862, 0.0, 0.0], [7.856742013183862, 0.0, 0.0, 7.856742013183862, 0.0, 0.0], [7.856742013183862, 0.0, 0.0, 7.856742013183862, 0.0, 0.0], [7.856742013183862, 0.0, 0.0, 7.856742013183862, 0.0, 0.0], [7.856742013183862, 0.0, 0.0, 7.856742013183862, 0.0, 0.0], [7.856742013183862, 0.0, 0.0, 7.856742013183862, 0.0, 0.0], [7.856742013183862, 0.0, 0.0, 7.856742013183862, 0.0, 0.0], [7.856742013183862, 0.0, 0.0, 7.856742013183862, 0.0, 0.0], [7.856742013183862, 0.0, 0.0, 7.856742013183862, 0.0, 0.0], [7.856742013183862, 0.0, 0.0, 7.856742013183862, 0.0, 0.0], [11.087241886741525, 0.0, 0.0, 11.087241886741525, 0.0, 0.0], [31.426968052735447, 0.0, 0.0, 31.426968052735447, 0.0, 0.0]], \"pathcoordinates\": \"display\", \"offsetcoordinates\": \"data\", \"zorder\": 11, \"xindex\": 0, \"alphas\": [0.3], \"facecolors\": [\"#000000\", \"#000000\", \"#000000\", \"#000000\", \"#000000\", \"#000000\", \"#000000\", \"#000000\", \"#000000\", \"#000000\", \"#000000\", \"#000000\", \"#000000\", \"#000000\", \"#000000\", \"#000000\", \"#000000\", \"#000000\", \"#000000\", \"#000000\", \"#000000\", \"#000000\", \"#000000\", \"#000000\", \"#000000\", \"#000000\", \"#000000\", \"#000000\", \"#000000\", \"#000000\", \"#000000\", \"#000000\", \"#000000\", \"#000000\", \"#000000\", \"#000000\", \"#000000\", \"#000000\", \"#000000\", \"#000000\", \"#000000\"]}], \"xscale\": \"linear\", \"bbox\": [0.125, 0.125, 0.77500000000000002, 0.77500000000000002]}], \"height\": 800.0, \"width\": 800.0, \"plugins\": [{\"type\": \"reset\"}, {\"enabled\": false, \"button\": true, \"type\": \"zoom\"}, {\"enabled\": false, \"button\": true, \"type\": \"boxzoom\"}, {\"voffset\": 10, \"labels\": [\"<table border=\\\"1\\\" class=\\\"dataframe\\\">\\n  <tbody>\\n    <tr>\\n      <th>Drug</th>\\n      <td>Drug_999_IC50</td>\\n    </tr>\\n    <tr>\\n      <th>Feature</th>\\n      <td>ABCB1_mut</td>\\n    </tr>\\n    <tr>\\n      <th>FDR</th>\\n      <td>91.7855</td>\\n    </tr>\\n  </tbody>\\n</table>\", \"<table border=\\\"1\\\" class=\\\"dataframe\\\">\\n  <tbody>\\n    <tr>\\n      <th>Drug</th>\\n      <td>Drug_999_IC50</td>\\n    </tr>\\n    <tr>\\n      <th>Feature</th>\\n      <td>ABL2_mut</td>\\n    </tr>\\n    <tr>\\n      <th>FDR</th>\\n      <td>91.7855</td>\\n    </tr>\\n  </tbody>\\n</table>\", \"<table border=\\\"1\\\" class=\\\"dataframe\\\">\\n  <tbody>\\n    <tr>\\n      <th>Drug</th>\\n      <td>Drug_999_IC50</td>\\n    </tr>\\n    <tr>\\n      <th>Feature</th>\\n      <td>ACVR2A_mut</td>\\n    </tr>\\n    <tr>\\n      <th>FDR</th>\\n      <td>91.7855</td>\\n    </tr>\\n  </tbody>\\n</table>\", \"<table border=\\\"1\\\" class=\\\"dataframe\\\">\\n  <tbody>\\n    <tr>\\n      <th>Drug</th>\\n      <td>Drug_999_IC50</td>\\n    </tr>\\n    <tr>\\n      <th>Feature</th>\\n      <td>AFF4_mut</td>\\n    </tr>\\n    <tr>\\n      <th>FDR</th>\\n      <td>91.7855</td>\\n    </tr>\\n  </tbody>\\n</table>\", \"<table border=\\\"1\\\" class=\\\"dataframe\\\">\\n  <tbody>\\n    <tr>\\n      <th>Drug</th>\\n      <td>Drug_999_IC50</td>\\n    </tr>\\n    <tr>\\n      <th>Feature</th>\\n      <td>AHCTF1_mut</td>\\n    </tr>\\n    <tr>\\n      <th>FDR</th>\\n      <td>91.7855</td>\\n    </tr>\\n  </tbody>\\n</table>\", \"<table border=\\\"1\\\" class=\\\"dataframe\\\">\\n  <tbody>\\n    <tr>\\n      <th>Drug</th>\\n      <td>Drug_999_IC50</td>\\n    </tr>\\n    <tr>\\n      <th>Feature</th>\\n      <td>AHNAK_mut</td>\\n    </tr>\\n    <tr>\\n      <th>FDR</th>\\n      <td>91.7855</td>\\n    </tr>\\n  </tbody>\\n</table>\", \"<table border=\\\"1\\\" class=\\\"dataframe\\\">\\n  <tbody>\\n    <tr>\\n      <th>Drug</th>\\n      <td>Drug_999_IC50</td>\\n    </tr>\\n    <tr>\\n      <th>Feature</th>\\n      <td>AKAP9_mut</td>\\n    </tr>\\n    <tr>\\n      <th>FDR</th>\\n      <td>91.7855</td>\\n    </tr>\\n  </tbody>\\n</table>\", \"<table border=\\\"1\\\" class=\\\"dataframe\\\">\\n  <tbody>\\n    <tr>\\n      <th>Drug</th>\\n      <td>Drug_999_IC50</td>\\n    </tr>\\n    <tr>\\n      <th>Feature</th>\\n      <td>ALK_mut</td>\\n    </tr>\\n    <tr>\\n      <th>FDR</th>\\n      <td>91.7855</td>\\n    </tr>\\n  </tbody>\\n</table>\", \"<table border=\\\"1\\\" class=\\\"dataframe\\\">\\n  <tbody>\\n    <tr>\\n      <th>Drug</th>\\n      <td>Drug_999_IC50</td>\\n    </tr>\\n    <tr>\\n      <th>Feature</th>\\n      <td>ANK3_mut</td>\\n    </tr>\\n    <tr>\\n      <th>FDR</th>\\n      <td>91.7855</td>\\n    </tr>\\n  </tbody>\\n</table>\", \"<table border=\\\"1\\\" class=\\\"dataframe\\\">\\n  <tbody>\\n    <tr>\\n      <th>Drug</th>\\n      <td>Drug_999_IC50</td>\\n    </tr>\\n    <tr>\\n      <th>Feature</th>\\n      <td>APAF1_mut</td>\\n    </tr>\\n    <tr>\\n      <th>FDR</th>\\n      <td>91.7855</td>\\n    </tr>\\n  </tbody>\\n</table>\", \"<table border=\\\"1\\\" class=\\\"dataframe\\\">\\n  <tbody>\\n    <tr>\\n      <th>Drug</th>\\n      <td>Drug_999_IC50</td>\\n    </tr>\\n    <tr>\\n      <th>Feature</th>\\n      <td>APC_mut</td>\\n    </tr>\\n    <tr>\\n      <th>FDR</th>\\n      <td>91.7855</td>\\n    </tr>\\n  </tbody>\\n</table>\", \"<table border=\\\"1\\\" class=\\\"dataframe\\\">\\n  <tbody>\\n    <tr>\\n      <th>Drug</th>\\n      <td>Drug_999_IC50</td>\\n    </tr>\\n    <tr>\\n      <th>Feature</th>\\n      <td>ARAP3_mut</td>\\n    </tr>\\n    <tr>\\n      <th>FDR</th>\\n      <td>91.7855</td>\\n    </tr>\\n  </tbody>\\n</table>\", \"<table border=\\\"1\\\" class=\\\"dataframe\\\">\\n  <tbody>\\n    <tr>\\n      <th>Drug</th>\\n      <td>Drug_999_IC50</td>\\n    </tr>\\n    <tr>\\n      <th>Feature</th>\\n      <td>ARFGAP3_mut</td>\\n    </tr>\\n    <tr>\\n      <th>FDR</th>\\n      <td>91.7855</td>\\n    </tr>\\n  </tbody>\\n</table>\", \"<table border=\\\"1\\\" class=\\\"dataframe\\\">\\n  <tbody>\\n    <tr>\\n      <th>Drug</th>\\n      <td>Drug_999_IC50</td>\\n    </tr>\\n    <tr>\\n      <th>Feature</th>\\n      <td>ARFGEF1_mut</td>\\n    </tr>\\n    <tr>\\n      <th>FDR</th>\\n      <td>91.7855</td>\\n    </tr>\\n  </tbody>\\n</table>\", \"<table border=\\\"1\\\" class=\\\"dataframe\\\">\\n  <tbody>\\n    <tr>\\n      <th>Drug</th>\\n      <td>Drug_999_IC50</td>\\n    </tr>\\n    <tr>\\n      <th>Feature</th>\\n      <td>ARHGAP29_mut</td>\\n    </tr>\\n    <tr>\\n      <th>FDR</th>\\n      <td>91.7855</td>\\n    </tr>\\n  </tbody>\\n</table>\", \"<table border=\\\"1\\\" class=\\\"dataframe\\\">\\n  <tbody>\\n    <tr>\\n      <th>Drug</th>\\n      <td>Drug_999_IC50</td>\\n    </tr>\\n    <tr>\\n      <th>Feature</th>\\n      <td>ARID1A_mut</td>\\n    </tr>\\n    <tr>\\n      <th>FDR</th>\\n      <td>91.7855</td>\\n    </tr>\\n  </tbody>\\n</table>\", \"<table border=\\\"1\\\" class=\\\"dataframe\\\">\\n  <tbody>\\n    <tr>\\n      <th>Drug</th>\\n      <td>Drug_999_IC50</td>\\n    </tr>\\n    <tr>\\n      <th>Feature</th>\\n      <td>ARID1B_mut</td>\\n    </tr>\\n    <tr>\\n      <th>FDR</th>\\n      <td>91.7855</td>\\n    </tr>\\n  </tbody>\\n</table>\", \"<table border=\\\"1\\\" class=\\\"dataframe\\\">\\n  <tbody>\\n    <tr>\\n      <th>Drug</th>\\n      <td>Drug_999_IC50</td>\\n    </tr>\\n    <tr>\\n      <th>Feature</th>\\n      <td>ARID2_mut</td>\\n    </tr>\\n    <tr>\\n      <th>FDR</th>\\n      <td>91.7855</td>\\n    </tr>\\n  </tbody>\\n</table>\", \"<table border=\\\"1\\\" class=\\\"dataframe\\\">\\n  <tbody>\\n    <tr>\\n      <th>Drug</th>\\n      <td>Drug_999_IC50</td>\\n    </tr>\\n    <tr>\\n      <th>Feature</th>\\n      <td>ARID4A_mut</td>\\n    </tr>\\n    <tr>\\n      <th>FDR</th>\\n      <td>91.7855</td>\\n    </tr>\\n  </tbody>\\n</table>\", \"<table border=\\\"1\\\" class=\\\"dataframe\\\">\\n  <tbody>\\n    <tr>\\n      <th>Drug</th>\\n      <td>Drug_999_IC50</td>\\n    </tr>\\n    <tr>\\n      <th>Feature</th>\\n      <td>ARID4B_mut</td>\\n    </tr>\\n    <tr>\\n      <th>FDR</th>\\n      <td>91.7855</td>\\n    </tr>\\n  </tbody>\\n</table>\", \"<table border=\\\"1\\\" class=\\\"dataframe\\\">\\n  <tbody>\\n    <tr>\\n      <th>Drug</th>\\n      <td>Drug_999_IC50</td>\\n    </tr>\\n    <tr>\\n      <th>Feature</th>\\n      <td>ARID5B_mut</td>\\n    </tr>\\n    <tr>\\n      <th>FDR</th>\\n      <td>95.0879</td>\\n    </tr>\\n  </tbody>\\n</table>\", \"<table border=\\\"1\\\" class=\\\"dataframe\\\">\\n  <tbody>\\n    <tr>\\n      <th>Drug</th>\\n      <td>Drug_999_IC50</td>\\n    </tr>\\n    <tr>\\n      <th>Feature</th>\\n      <td>ASH1L_mut</td>\\n    </tr>\\n    <tr>\\n      <th>FDR</th>\\n      <td>91.7855</td>\\n    </tr>\\n  </tbody>\\n</table>\", \"<table border=\\\"1\\\" class=\\\"dataframe\\\">\\n  <tbody>\\n    <tr>\\n      <th>Drug</th>\\n      <td>Drug_999_IC50</td>\\n    </tr>\\n    <tr>\\n      <th>Feature</th>\\n      <td>ASPM_mut</td>\\n    </tr>\\n    <tr>\\n      <th>FDR</th>\\n      <td>91.7855</td>\\n    </tr>\\n  </tbody>\\n</table>\", \"<table border=\\\"1\\\" class=\\\"dataframe\\\">\\n  <tbody>\\n    <tr>\\n      <th>Drug</th>\\n      <td>Drug_999_IC50</td>\\n    </tr>\\n    <tr>\\n      <th>Feature</th>\\n      <td>ASXL1_mut</td>\\n    </tr>\\n    <tr>\\n      <th>FDR</th>\\n      <td>91.7855</td>\\n    </tr>\\n  </tbody>\\n</table>\", \"<table border=\\\"1\\\" class=\\\"dataframe\\\">\\n  <tbody>\\n    <tr>\\n      <th>Drug</th>\\n      <td>Drug_999_IC50</td>\\n    </tr>\\n    <tr>\\n      <th>Feature</th>\\n      <td>ASXL2_mut</td>\\n    </tr>\\n    <tr>\\n      <th>FDR</th>\\n      <td>91.7855</td>\\n    </tr>\\n  </tbody>\\n</table>\", \"<table border=\\\"1\\\" class=\\\"dataframe\\\">\\n  <tbody>\\n    <tr>\\n      <th>Drug</th>\\n      <td>Drug_999_IC50</td>\\n    </tr>\\n    <tr>\\n      <th>Feature</th>\\n      <td>ATM_mut</td>\\n    </tr>\\n    <tr>\\n      <th>FDR</th>\\n      <td>91.7855</td>\\n    </tr>\\n  </tbody>\\n</table>\", \"<table border=\\\"1\\\" class=\\\"dataframe\\\">\\n  <tbody>\\n    <tr>\\n      <th>Drug</th>\\n      <td>Drug_999_IC50</td>\\n    </tr>\\n    <tr>\\n      <th>Feature</th>\\n      <td>ATR_mut</td>\\n    </tr>\\n    <tr>\\n      <th>FDR</th>\\n      <td>91.7855</td>\\n    </tr>\\n  </tbody>\\n</table>\", \"<table border=\\\"1\\\" class=\\\"dataframe\\\">\\n  <tbody>\\n    <tr>\\n      <th>Drug</th>\\n      <td>Drug_999_IC50</td>\\n    </tr>\\n    <tr>\\n      <th>Feature</th>\\n      <td>AXIN1_mut</td>\\n    </tr>\\n    <tr>\\n      <th>FDR</th>\\n      <td>91.7855</td>\\n    </tr>\\n  </tbody>\\n</table>\", \"<table border=\\\"1\\\" class=\\\"dataframe\\\">\\n  <tbody>\\n    <tr>\\n      <th>Drug</th>\\n      <td>Drug_999_IC50</td>\\n    </tr>\\n    <tr>\\n      <th>Feature</th>\\n      <td>AXIN2_mut</td>\\n    </tr>\\n    <tr>\\n      <th>FDR</th>\\n      <td>91.7855</td>\\n    </tr>\\n  </tbody>\\n</table>\", \"<table border=\\\"1\\\" class=\\\"dataframe\\\">\\n  <tbody>\\n    <tr>\\n      <th>Drug</th>\\n      <td>Drug_999_IC50</td>\\n    </tr>\\n    <tr>\\n      <th>Feature</th>\\n      <td>B2M_mut</td>\\n    </tr>\\n    <tr>\\n      <th>FDR</th>\\n      <td>91.7855</td>\\n    </tr>\\n  </tbody>\\n</table>\", \"<table border=\\\"1\\\" class=\\\"dataframe\\\">\\n  <tbody>\\n    <tr>\\n      <th>Drug</th>\\n      <td>Drug_999_IC50</td>\\n    </tr>\\n    <tr>\\n      <th>Feature</th>\\n      <td>BAP1_mut</td>\\n    </tr>\\n    <tr>\\n      <th>FDR</th>\\n      <td>91.7855</td>\\n    </tr>\\n  </tbody>\\n</table>\", \"<table border=\\\"1\\\" class=\\\"dataframe\\\">\\n  <tbody>\\n    <tr>\\n      <th>Drug</th>\\n      <td>Drug_999_IC50</td>\\n    </tr>\\n    <tr>\\n      <th>Feature</th>\\n      <td>BAZ2B_mut</td>\\n    </tr>\\n    <tr>\\n      <th>FDR</th>\\n      <td>91.7855</td>\\n    </tr>\\n  </tbody>\\n</table>\", \"<table border=\\\"1\\\" class=\\\"dataframe\\\">\\n  <tbody>\\n    <tr>\\n      <th>Drug</th>\\n      <td>Drug_999_IC50</td>\\n    </tr>\\n    <tr>\\n      <th>Feature</th>\\n      <td>BCLAF1_mut</td>\\n    </tr>\\n    <tr>\\n      <th>FDR</th>\\n      <td>91.7855</td>\\n    </tr>\\n  </tbody>\\n</table>\", \"<table border=\\\"1\\\" class=\\\"dataframe\\\">\\n  <tbody>\\n    <tr>\\n      <th>Drug</th>\\n      <td>Drug_999_IC50</td>\\n    </tr>\\n    <tr>\\n      <th>Feature</th>\\n      <td>BCOR_mut</td>\\n    </tr>\\n    <tr>\\n      <th>FDR</th>\\n      <td>91.7855</td>\\n    </tr>\\n  </tbody>\\n</table>\", \"<table border=\\\"1\\\" class=\\\"dataframe\\\">\\n  <tbody>\\n    <tr>\\n      <th>Drug</th>\\n      <td>Drug_999_IC50</td>\\n    </tr>\\n    <tr>\\n      <th>Feature</th>\\n      <td>BCR-ABL_mut</td>\\n    </tr>\\n    <tr>\\n      <th>FDR</th>\\n      <td>91.7855</td>\\n    </tr>\\n  </tbody>\\n</table>\", \"<table border=\\\"1\\\" class=\\\"dataframe\\\">\\n  <tbody>\\n    <tr>\\n      <th>Drug</th>\\n      <td>Drug_999_IC50</td>\\n    </tr>\\n    <tr>\\n      <th>Feature</th>\\n      <td>BLM_mut</td>\\n    </tr>\\n    <tr>\\n      <th>FDR</th>\\n      <td>91.7855</td>\\n    </tr>\\n  </tbody>\\n</table>\", \"<table border=\\\"1\\\" class=\\\"dataframe\\\">\\n  <tbody>\\n    <tr>\\n      <th>Drug</th>\\n      <td>Drug_999_IC50</td>\\n    </tr>\\n    <tr>\\n      <th>Feature</th>\\n      <td>BMPR2_mut</td>\\n    </tr>\\n    <tr>\\n      <th>FDR</th>\\n      <td>91.7855</td>\\n    </tr>\\n  </tbody>\\n</table>\", \"<table border=\\\"1\\\" class=\\\"dataframe\\\">\\n  <tbody>\\n    <tr>\\n      <th>Drug</th>\\n      <td>Drug_999_IC50</td>\\n    </tr>\\n    <tr>\\n      <th>Feature</th>\\n      <td>BNC2_mut</td>\\n    </tr>\\n    <tr>\\n      <th>FDR</th>\\n      <td>91.7855</td>\\n    </tr>\\n  </tbody>\\n</table>\", \"<table border=\\\"1\\\" class=\\\"dataframe\\\">\\n  <tbody>\\n    <tr>\\n      <th>Drug</th>\\n      <td>Drug_999_IC50</td>\\n    </tr>\\n    <tr>\\n      <th>Feature</th>\\n      <td>BPTF_mut</td>\\n    </tr>\\n    <tr>\\n      <th>FDR</th>\\n      <td>91.7855</td>\\n    </tr>\\n  </tbody>\\n</table>\", \"<table border=\\\"1\\\" class=\\\"dataframe\\\">\\n  <tbody>\\n    <tr>\\n      <th>Drug</th>\\n      <td>Drug_999_IC50</td>\\n    </tr>\\n    <tr>\\n      <th>Feature</th>\\n      <td>BRAF_mut</td>\\n    </tr>\\n    <tr>\\n      <th>FDR</th>\\n      <td>91.7855</td>\\n    </tr>\\n  </tbody>\\n</table>\", \"<table border=\\\"1\\\" class=\\\"dataframe\\\">\\n  <tbody>\\n    <tr>\\n      <th>Drug</th>\\n      <td>Drug_999_IC50</td>\\n    </tr>\\n    <tr>\\n      <th>Feature</th>\\n      <td>TP53_mut</td>\\n    </tr>\\n    <tr>\\n      <th>FDR</th>\\n      <td>91.7855</td>\\n    </tr>\\n  </tbody>\\n</table>\"], \"type\": \"htmltooltip\", \"id\": \"el1426102343120\", \"hoffset\": 0}], \"data\": {\"data08\": [[0.010752688172043029, 0.8604705457064569], [0.2048512804072263, 0.8604705457064569], [0.2048512804072263, 0.9892473118279569], [0.010752688172043029, 0.9892473118279569]], \"data06\": [[0.31, 0.06], [0.43, 0.17], [-0.09, 0.47], [0.1, 0.13], [0.48, 0.29], [0.23, 0.45], [0.41, 0.18], [-0.02, 0.13], [0.31, 0.29], [0.46, 0.23], [0.22, 0.63], [0.65, 0.26], [0.09, 0.08], [0.0, 0.07], [-0.08, 0.27], [0.01, 0.12], [-0.16, 0.57], [0.76, 1.05], [0.13, 0.09], [0.6, 0.46], [0.21, 0.02], [0.4, 0.26], [-0.11, 0.83], [0.2, 0.39], [0.2, 0.18], [0.0, 0.29], [0.07, 0.11], [0.41, 0.15], [0.48, 0.28], [0.24, 0.24], [0.39, 1.45], [0.77, 0.66], [-0.01, 0.21], [0.02, 0.1], [-0.13, 0.13], [0.11, 0.04], [0.26, 0.12], [0.01, 0.13], [0.25, 0.31], [0.2, 0.18], [-0.01, 0.04], [-1.0, 70.0]], \"data07\": [[0.02580645161290322, 0.9729068381422489, 0.9423255498376802, 0.9117442615331118, 0.8811629732285432], [0.05591397849462365, 0.9729068381422489, 0.9423255498376802, 0.9117442615331118, 0.8811629732285432]], \"data04\": [[NaN, NaN], [NaN, NaN]], \"data05\": [[410.0, 100.0], [410.0, 720.0]], \"data02\": [[NaN, NaN], [NaN, NaN]], \"data03\": [[NaN, NaN], [NaN, NaN]], \"data01\": [[NaN, NaN], [NaN, NaN]]}, \"id\": \"el1426101211088\"});\n",
       "            })\n",
       "         });\n",
       "}\n",
       "</script>"
      ],
      "text/plain": [
       "<IPython.core.display.HTML object>"
      ]
     },
     "execution_count": 14,
     "metadata": {},
     "output_type": "execute_result"
    }
   ],
   "source": [
    "mpld3.enable_notebook()\n",
    "mpld3.display(v.current_fig)\n",
    "# 1. hover the mouse on circles to get more information.\n",
    "# 2. in the bottom right corner you can find small icons to click on to focus in the images. Click again \n",
    "#    to be able to hover the mouse agains"
   ]
  },
  {
   "cell_type": "code",
   "execution_count": 19,
   "metadata": {
    "collapsed": false
   },
   "outputs": [],
   "source": [
    "mpld3.display?\n"
   ]
  },
  {
   "cell_type": "code",
   "execution_count": null,
   "metadata": {
    "collapsed": true
   },
   "outputs": [],
   "source": []
  }
 ],
 "metadata": {
  "kernelspec": {
   "display_name": "Python 2",
   "language": "python",
   "name": "python2"
  },
  "language_info": {
   "codemirror_mode": {
    "name": "ipython",
    "version": 2
   },
   "file_extension": ".py",
   "mimetype": "text/x-python",
   "name": "python",
   "nbconvert_exporter": "python",
   "pygments_lexer": "ipython2",
   "version": "2.7.5"
  }
 },
 "nbformat": 4,
 "nbformat_minor": 0
}
